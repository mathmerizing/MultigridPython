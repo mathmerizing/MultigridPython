{
 "cells": [
  {
   "cell_type": "markdown",
   "metadata": {},
   "source": [
    "# Results of Multigrid for Convection Diffusion"
   ]
  },
  {
   "cell_type": "code",
   "execution_count": 1,
   "metadata": {},
   "outputs": [],
   "source": [
    "from main import inputParameters, runDemo\n",
    "import logging\n",
    "logging.basicConfig(level=logging.INFO , format='[%(asctime)s] - [%(levelname)s] - %(message)s')"
   ]
  },
  {
   "cell_type": "code",
   "execution_count": 2,
   "metadata": {},
   "outputs": [
    {
     "name": "stdout",
     "output_type": "stream",
     "text": [
      "==================\n",
      "* DEFAULT VALUES *\n",
      "==================\n",
      "LEVELS              = 5\n",
      "SHOW_GRIDS          = False\n",
      "DEGREE              = 1\n",
      "CYCLE               = W\n",
      "MAX_ITER            = 100\n",
      "SMOOTHING_STEPS     = 2\n",
      "SMOOTHER            = Jacobi\n",
      "OMEGA               = 0.8\n",
      "\n",
      "Would you like to change some values? (Y/N): y\n",
      "Number of MG levels (default: 5) = 10\n",
      "Plot grids (default: False) = \n",
      "Degree of FE (default: 1) = \n",
      "Multigrid cycle (default: W; supported: 'V','W') = \n",
      "Maximum number of MG iterations (default: 100) = \n",
      "Number of smoothing steps (default: 2) = \n",
      "Smoother type (default: Jacobi; supported: 'Jacobi','GaussSeidel') = \n",
      "Relaxation parameter omega (default: 0.8) = \n",
      "\n",
      "=================\n",
      "* CUSTOM VALUES *\n",
      "=================\n",
      "LEVELS              = 10\n",
      "SHOW_GRIDS          = False\n",
      "DEGREE              = 1\n",
      "CYCLE               = W\n",
      "MAX_ITER            = 100\n",
      "SMOOTHING_STEPS     = 2\n",
      "SMOOTHER            = Jacobi\n",
      "OMEGA               = 0.8\n",
      "\n"
     ]
    }
   ],
   "source": [
    "inputParameters()"
   ]
  },
  {
   "cell_type": "code",
   "execution_count": 3,
   "metadata": {},
   "outputs": [
    {
     "name": "stderr",
     "output_type": "stream",
     "text": [
      "[2020-06-15 23:56:19,233] - [INFO] - +-----------------------------------------+\n",
      "[2020-06-15 23:56:19,233] - [INFO] - +    MULTIGRID (LEVELS =  2)              +\n",
      "[2020-06-15 23:56:19,234] - [INFO] - +-----------------------------------------+\n",
      "[2020-06-15 23:56:19,401] - [INFO] - Number of DoFs: 21 (by level: 8,21)\n",
      "[2020-06-15 23:56:19,439] - [INFO] - Defect:         5.43e-13\n",
      "[2020-06-15 23:56:19,440] - [INFO] - GMG iterations: 14\n",
      "[2020-06-15 23:56:19,441] - [INFO] - Total time:     209 ms\n",
      "[2020-06-15 23:56:19,442] - [INFO] - \n",
      "[2020-06-15 23:56:19,442] - [INFO] - +-----------------------------------------+\n",
      "[2020-06-15 23:56:19,443] - [INFO] - +    MULTIGRID (LEVELS =  3)              +\n",
      "[2020-06-15 23:56:19,444] - [INFO] - +-----------------------------------------+\n",
      "[2020-06-15 23:56:19,708] - [INFO] - Number of DoFs: 65 (by level: 8,21,65)\n",
      "[2020-06-15 23:56:19,792] - [INFO] - Defect:         4.54e-13\n",
      "[2020-06-15 23:56:19,792] - [INFO] - GMG iterations: 15\n",
      "[2020-06-15 23:56:19,794] - [INFO] - Total time:     351 ms\n",
      "[2020-06-15 23:56:19,794] - [INFO] - \n",
      "[2020-06-15 23:56:19,795] - [INFO] - +-----------------------------------------+\n",
      "[2020-06-15 23:56:19,795] - [INFO] - +    MULTIGRID (LEVELS =  4)              +\n",
      "[2020-06-15 23:56:19,796] - [INFO] - +-----------------------------------------+\n",
      "[2020-06-15 23:56:20,069] - [INFO] - Number of DoFs: 225 (by level: 8,21,65,225)\n",
      "[2020-06-15 23:56:20,234] - [INFO] - Defect:         8.66e-13\n",
      "[2020-06-15 23:56:20,234] - [INFO] - GMG iterations: 14\n",
      "[2020-06-15 23:56:20,236] - [INFO] - Total time:     442 ms\n",
      "[2020-06-15 23:56:20,237] - [INFO] - \n",
      "[2020-06-15 23:56:20,237] - [INFO] - +-----------------------------------------+\n",
      "[2020-06-15 23:56:20,238] - [INFO] - +    MULTIGRID (LEVELS =  5)              +\n",
      "[2020-06-15 23:56:20,239] - [INFO] - +-----------------------------------------+\n",
      "[2020-06-15 23:56:20,645] - [INFO] - Number of DoFs: 833 (by level: 8,21,65,225,833)\n",
      "[2020-06-15 23:56:21,012] - [INFO] - Defect:         6.6e-13\n",
      "[2020-06-15 23:56:21,012] - [INFO] - GMG iterations: 14\n",
      "[2020-06-15 23:56:21,016] - [INFO] - Total time:     779 ms\n",
      "[2020-06-15 23:56:21,017] - [INFO] - \n",
      "[2020-06-15 23:56:21,017] - [INFO] - +-----------------------------------------+\n",
      "[2020-06-15 23:56:21,018] - [INFO] - +    MULTIGRID (LEVELS =  6)              +\n",
      "[2020-06-15 23:56:21,018] - [INFO] - +-----------------------------------------+\n",
      "[2020-06-15 23:56:21,762] - [INFO] - Number of DoFs: 3201 (by level: 8,21,65,225,833,3201)\n",
      "[2020-06-15 23:56:22,468] - [INFO] - Defect:         6.57e-13\n",
      "[2020-06-15 23:56:22,469] - [INFO] - GMG iterations: 13\n",
      "[2020-06-15 23:56:22,482] - [INFO] - Total time:     1 s 465 ms\n",
      "[2020-06-15 23:56:22,483] - [INFO] - \n",
      "[2020-06-15 23:56:22,484] - [INFO] - +-----------------------------------------+\n",
      "[2020-06-15 23:56:22,484] - [INFO] - +    MULTIGRID (LEVELS =  7)              +\n",
      "[2020-06-15 23:56:22,485] - [INFO] - +-----------------------------------------+\n",
      "[2020-06-15 23:56:24,824] - [INFO] - Number of DoFs: 12545 (by level: 8,21,65,225,833,3201,12545)\n",
      "[2020-06-15 23:56:26,671] - [INFO] - Defect:         4.27e-13\n",
      "[2020-06-15 23:56:26,672] - [INFO] - GMG iterations: 13\n",
      "[2020-06-15 23:56:26,749] - [INFO] - Total time:     4 s 265 ms\n",
      "[2020-06-15 23:56:26,749] - [INFO] - \n",
      "[2020-06-15 23:56:26,749] - [INFO] - +-----------------------------------------+\n",
      "[2020-06-15 23:56:26,750] - [INFO] - +    MULTIGRID (LEVELS =  8)              +\n",
      "[2020-06-15 23:56:26,750] - [INFO] - +-----------------------------------------+\n",
      "[2020-06-15 23:56:35,426] - [INFO] - Number of DoFs: 49665 (by level: 8,21,65,225,833,3201,12545,49665)\n",
      "[2020-06-15 23:56:39,737] - [INFO] - Defect:         9.59e-13\n",
      "[2020-06-15 23:56:39,739] - [INFO] - GMG iterations: 12\n",
      "[2020-06-15 23:56:39,969] - [INFO] - Total time:     13 s 219 ms\n",
      "[2020-06-15 23:56:39,969] - [INFO] - \n",
      "[2020-06-15 23:56:39,970] - [INFO] - +-----------------------------------------+\n",
      "[2020-06-15 23:56:39,970] - [INFO] - +    MULTIGRID (LEVELS =  9)              +\n",
      "[2020-06-15 23:56:39,970] - [INFO] - +-----------------------------------------+\n",
      "[2020-06-15 23:57:13,858] - [INFO] - Number of DoFs: 197633 (by level: 8,21,65,225,833,3201,12545,49665,197633)\n",
      "[2020-06-15 23:57:25,808] - [INFO] - Defect:         4.53e-13\n",
      "[2020-06-15 23:57:25,809] - [INFO] - GMG iterations: 12\n",
      "[2020-06-15 23:57:26,715] - [INFO] - Total time:     46 s 745 ms\n",
      "[2020-06-15 23:57:26,716] - [INFO] - \n",
      "[2020-06-15 23:57:26,716] - [INFO] - +-----------------------------------------+\n",
      "[2020-06-15 23:57:26,716] - [INFO] - +    MULTIGRID (LEVELS = 10)              +\n",
      "[2020-06-15 23:57:26,717] - [INFO] - +-----------------------------------------+\n",
      "[2020-06-15 23:59:40,006] - [INFO] - Number of DoFs: 788481 (by level: 8,21,65,225,833,3201,12545,49665,197633,788481)\n",
      "[2020-06-16 00:00:14,354] - [INFO] - Defect:         8.76e-13\n",
      "[2020-06-16 00:00:14,355] - [INFO] - GMG iterations: 11\n",
      "[2020-06-16 00:00:17,777] - [INFO] - Total time:     2 min 51 s 61 ms\n",
      "[2020-06-16 00:00:17,778] - [INFO] - \n"
     ]
    }
   ],
   "source": [
    "runDemo()"
   ]
  }
 ],
 "metadata": {
  "kernelspec": {
   "display_name": "Python 3",
   "language": "python",
   "name": "python3"
  },
  "language_info": {
   "codemirror_mode": {
    "name": "ipython",
    "version": 3
   },
   "file_extension": ".py",
   "mimetype": "text/x-python",
   "name": "python",
   "nbconvert_exporter": "python",
   "pygments_lexer": "ipython3",
   "version": "3.7.5"
  }
 },
 "nbformat": 4,
 "nbformat_minor": 4
}
