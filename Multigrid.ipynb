{
 "cells": [
  {
   "cell_type": "markdown",
   "metadata": {
    "slideshow": {
     "slide_type": "slide"
    }
   },
   "source": [
    "# Results of Multigrid for Convection Diffusion"
   ]
  },
  {
   "cell_type": "markdown",
   "metadata": {},
   "source": [
    "## Imports"
   ]
  },
  {
   "cell_type": "code",
   "execution_count": 1,
   "metadata": {
    "slideshow": {
     "slide_type": "slide"
    }
   },
   "outputs": [],
   "source": [
    "from main import inputParameters, runDemo\n",
    "import logging\n",
    "logging.basicConfig(level=logging.INFO , format='[%(asctime)s] - [%(levelname)s] - %(message)s')"
   ]
  },
  {
   "cell_type": "markdown",
   "metadata": {},
   "source": [
    "## Set parameters"
   ]
  },
  {
   "cell_type": "code",
   "execution_count": 2,
   "metadata": {
    "slideshow": {
     "slide_type": "skip"
    }
   },
   "outputs": [
    {
     "name": "stdout",
     "output_type": "stream",
     "text": [
      "==================\n",
      "* DEFAULT VALUES *\n",
      "==================\n",
      "LEVELS              = 5\n",
      "SHOW_GRIDS          = False\n",
      "DEGREE              = 1\n",
      "CYCLE               = W\n",
      "MAX_ITER            = 100\n",
      "SMOOTHING_STEPS     = 2\n",
      "SMOOTHER            = Jacobi\n",
      "OMEGA               = 0.8\n",
      "\n",
      "Would you like to change some values? (Y/N): n\n"
     ]
    }
   ],
   "source": [
    "inputParameters()"
   ]
  },
  {
   "cell_type": "markdown",
   "metadata": {},
   "source": [
    "## Demo"
   ]
  },
  {
   "cell_type": "markdown",
   "metadata": {},
   "source": [
    "Now that the user has inserted the parameters of the multigrid algorithm,\n",
    "we start by solving the two-grid method, refine the grid, solve the three-grid method, etc."
   ]
  },
  {
   "cell_type": "code",
   "execution_count": 3,
   "metadata": {},
   "outputs": [
    {
     "name": "stderr",
     "output_type": "stream",
     "text": [
      "[2020-06-21 21:21:08,819] - [INFO] - +-----------------------------------------+\n",
      "[2020-06-21 21:21:08,820] - [INFO] - +    MULTIGRID (LEVELS =  2)              +\n",
      "[2020-06-21 21:21:08,821] - [INFO] - +-----------------------------------------+\n",
      "[2020-06-21 21:21:09,099] - [INFO] - Number of DoFs: 21 (by level: 8,21)\n",
      "[2020-06-21 21:21:09,145] - [INFO] - Defect:           5.43e-13\n",
      "[2020-06-21 21:21:09,146] - [INFO] - GMG iterations:   14\n",
      "[2020-06-21 21:21:09,146] - [INFO] - Multigrid time:   0.046 s\n",
      "[2020-06-21 21:21:09,147] - [INFO] - Convergence rate: 1.0005\n",
      "[2020-06-21 21:21:09,149] - [INFO] - Total time:     331 ms\n",
      "[2020-06-21 21:21:09,150] - [INFO] - \n",
      "[2020-06-21 21:21:09,150] - [INFO] - +-----------------------------------------+\n",
      "[2020-06-21 21:21:09,151] - [INFO] - +    MULTIGRID (LEVELS =  3)              +\n",
      "[2020-06-21 21:21:09,152] - [INFO] - +-----------------------------------------+\n",
      "[2020-06-21 21:21:09,428] - [INFO] - Number of DoFs: 65 (by level: 8,21,65)\n",
      "[2020-06-21 21:21:09,528] - [INFO] - Defect:           4.54e-13\n",
      "[2020-06-21 21:21:09,529] - [INFO] - GMG iterations:   15\n",
      "[2020-06-21 21:21:09,530] - [INFO] - Multigrid time:   0.099 s\n",
      "[2020-06-21 21:21:09,530] - [INFO] - Convergence rate: 0.9929\n",
      "[2020-06-21 21:21:09,532] - [INFO] - Total time:     382 ms\n",
      "[2020-06-21 21:21:09,533] - [INFO] - \n",
      "[2020-06-21 21:21:09,533] - [INFO] - +-----------------------------------------+\n",
      "[2020-06-21 21:21:09,534] - [INFO] - +    MULTIGRID (LEVELS =  4)              +\n",
      "[2020-06-21 21:21:09,534] - [INFO] - +-----------------------------------------+\n",
      "[2020-06-21 21:21:09,822] - [INFO] - Number of DoFs: 225 (by level: 8,21,65,225)\n",
      "[2020-06-21 21:21:10,002] - [INFO] - Defect:           8.66e-13\n",
      "[2020-06-21 21:21:10,003] - [INFO] - GMG iterations:   14\n",
      "[2020-06-21 21:21:10,004] - [INFO] - Multigrid time:   0.176 s\n",
      "[2020-06-21 21:21:10,004] - [INFO] - Convergence rate: 0.9927\n",
      "[2020-06-21 21:21:10,008] - [INFO] - Total time:     474 ms\n",
      "[2020-06-21 21:21:10,009] - [INFO] - \n",
      "[2020-06-21 21:21:10,009] - [INFO] - +-----------------------------------------+\n",
      "[2020-06-21 21:21:10,010] - [INFO] - +    MULTIGRID (LEVELS =  5)              +\n",
      "[2020-06-21 21:21:10,010] - [INFO] - +-----------------------------------------+\n",
      "[2020-06-21 21:21:10,425] - [INFO] - Number of DoFs: 833 (by level: 8,21,65,225,833)\n",
      "[2020-06-21 21:21:10,826] - [INFO] - Defect:           6.6e-13\n",
      "[2020-06-21 21:21:10,827] - [INFO] - GMG iterations:   14\n",
      "[2020-06-21 21:21:10,827] - [INFO] - Multigrid time:   0.383 s\n",
      "[2020-06-21 21:21:10,828] - [INFO] - Convergence rate: 0.9986\n",
      "[2020-06-21 21:21:10,833] - [INFO] - Total time:     823 ms\n",
      "[2020-06-21 21:21:10,834] - [INFO] - \n"
     ]
    }
   ],
   "source": [
    "runDemo()"
   ]
  },
  {
   "cell_type": "markdown",
   "metadata": {},
   "source": [
    "## Results\n",
    "\n",
    "| Refinements | DoFs | Iterations |\n",
    "| :---: | ------ | :---: |\n",
    "| 1 |     21 | 14 |\n",
    "| 2 |     65 | 14 |\n",
    "| 3 |    225 | 14 |\n",
    "| 4 |    833 | 14 |\n",
    "| 5 |   3201 | 13 |\n",
    "| 6 |  12545 | 13 |\n",
    "| 7 |  49665 | 12 |\n",
    "| 8 | 197633 | 12 |\n",
    "| 9 |788481 | 11 |"
   ]
  },
  {
   "cell_type": "markdown",
   "metadata": {},
   "source": [
    "What we would expect from the theory is that the number of mulitgrid iterations needed should be constant and thus independent of the number of levels. This property is approximately fulfilled in our simulation. Furthermore, the total computation time should depend linearly on the number of DoFs. This can't be observed here, since for us the assembly of the level matrices is a big bottleneck and consumes the most time. When taking a closer look at the time stamps of the logs and comparing that to where the program currently is in our code, one might notice that after the assembly the time for the actual process of solving the linear equation system approximately doubles when we add a new level. The number of DoFs quadruples with every refinement. Thus the time of the multigrid solver linearly depends on the number of degrees of freedom."
   ]
  },
  {
   "cell_type": "code",
   "execution_count": null,
   "metadata": {},
   "outputs": [],
   "source": []
  }
 ],
 "metadata": {
  "kernelspec": {
   "display_name": "Python 3",
   "language": "python",
   "name": "python3"
  },
  "language_info": {
   "codemirror_mode": {
    "name": "ipython",
    "version": 3
   },
   "file_extension": ".py",
   "mimetype": "text/x-python",
   "name": "python",
   "nbconvert_exporter": "python",
   "pygments_lexer": "ipython3",
   "version": "3.7.5"
  }
 },
 "nbformat": 4,
 "nbformat_minor": 4
}
