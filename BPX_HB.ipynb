{
 "cells": [
  {
   "cell_type": "markdown",
   "metadata": {
    "slideshow": {
     "slide_type": "slide"
    }
   },
   "source": [
    "# Results of Multigrid for Reaction-Diffusion"
   ]
  },
  {
   "cell_type": "markdown",
   "metadata": {},
   "source": [
    "## Imports"
   ]
  },
  {
   "cell_type": "code",
   "execution_count": 1,
   "metadata": {
    "slideshow": {
     "slide_type": "slide"
    }
   },
   "outputs": [],
   "source": [
    "from main import inputParametersBPX, runDemoBPX, runDemoHB\n",
    "import logging\n",
    "logging.basicConfig(level=logging.INFO , format='[%(asctime)s] - [%(levelname)s] - %(message)s')"
   ]
  },
  {
   "cell_type": "markdown",
   "metadata": {},
   "source": [
    "## Set parameters"
   ]
  },
  {
   "cell_type": "code",
   "execution_count": 2,
   "metadata": {
    "slideshow": {
     "slide_type": "skip"
    }
   },
   "outputs": [
    {
     "name": "stdout",
     "output_type": "stream",
     "text": [
      "==================\n",
      "* DEFAULT VALUES *\n",
      "==================\n",
      "LEVELS              = 5\n",
      "SHOW_GRIDS          = False\n",
      "DEGREE              = 1\n",
      "MAX_ITER            = 100\n",
      "EPSILON             = 1e-08\n",
      "\n",
      "Would you like to change some values? (Y/N): n\n"
     ]
    }
   ],
   "source": [
    "inputParametersBPX()"
   ]
  },
  {
   "cell_type": "markdown",
   "metadata": {},
   "source": [
    "## Demo"
   ]
  },
  {
   "cell_type": "markdown",
   "metadata": {},
   "source": [
    "Now that the user has inserted the parameters of the multigrid algorithm,\n",
    "we start by solving the two-grid method, refine the grid, solve the three-grid method, etc."
   ]
  },
  {
   "cell_type": "code",
   "execution_count": 3,
   "metadata": {},
   "outputs": [
    {
     "name": "stderr",
     "output_type": "stream",
     "text": [
      "[2020-07-22 22:51:15,332] - [INFO] - +-----------------------------------------+\n",
      "[2020-07-22 22:51:15,333] - [INFO] - +    MULTIGRID (LEVELS =  2)              +\n",
      "[2020-07-22 22:51:15,333] - [INFO] - +-----------------------------------------+\n",
      "[2020-07-22 22:51:15,505] - [INFO] - Number of DoFs: 9 (by level: 4,9)\n",
      "[2020-07-22 22:51:15,512] - [INFO] - BPX-PCG iterations:   6\n",
      "[2020-07-22 22:51:15,518] - [INFO] - BPX condition number: inf\n",
      "[2020-07-22 22:51:15,519] - [INFO] - Total time:     187 ms\n",
      "[2020-07-22 22:51:15,519] - [INFO] - \n",
      "[2020-07-22 22:51:15,520] - [INFO] - +-----------------------------------------+\n",
      "[2020-07-22 22:51:15,520] - [INFO] - +    MULTIGRID (LEVELS =  3)              +\n",
      "[2020-07-22 22:51:15,521] - [INFO] - +-----------------------------------------+\n",
      "[2020-07-22 22:51:15,696] - [INFO] - Number of DoFs: 25 (by level: 4,9,25)\n",
      "[2020-07-22 22:51:15,710] - [INFO] - BPX-PCG iterations:   15\n",
      "[2020-07-22 22:51:15,733] - [INFO] - BPX condition number: 1.4700196397310314e+17\n",
      "[2020-07-22 22:51:15,734] - [INFO] - Total time:     214 ms\n",
      "[2020-07-22 22:51:15,734] - [INFO] - \n",
      "[2020-07-22 22:51:15,735] - [INFO] - +-----------------------------------------+\n",
      "[2020-07-22 22:51:15,735] - [INFO] - +    MULTIGRID (LEVELS =  4)              +\n",
      "[2020-07-22 22:51:15,735] - [INFO] - +-----------------------------------------+\n",
      "[2020-07-22 22:51:16,014] - [INFO] - Number of DoFs: 81 (by level: 4,9,25,81)\n",
      "[2020-07-22 22:51:16,036] - [INFO] - BPX-PCG iterations:   21\n",
      "[2020-07-22 22:51:16,109] - [INFO] - BPX condition number: 4.1762685386197626e+17\n",
      "[2020-07-22 22:51:16,111] - [INFO] - Total time:     376 ms\n",
      "[2020-07-22 22:51:16,111] - [INFO] - \n",
      "[2020-07-22 22:51:16,112] - [INFO] - +-----------------------------------------+\n",
      "[2020-07-22 22:51:16,112] - [INFO] - +    MULTIGRID (LEVELS =  5)              +\n",
      "[2020-07-22 22:51:16,113] - [INFO] - +-----------------------------------------+\n",
      "[2020-07-22 22:51:16,399] - [INFO] - Number of DoFs: 289 (by level: 4,9,25,81,289)\n",
      "[2020-07-22 22:51:16,436] - [INFO] - BPX-PCG iterations:   24\n",
      "[2020-07-22 22:51:16,736] - [INFO] - BPX condition number: 1.933484192233457e+17\n",
      "[2020-07-22 22:51:16,739] - [INFO] - Total time:     627 ms\n",
      "[2020-07-22 22:51:16,739] - [INFO] - \n"
     ]
    }
   ],
   "source": [
    "runDemoBPX()"
   ]
  },
  {
   "cell_type": "code",
   "execution_count": 4,
   "metadata": {},
   "outputs": [
    {
     "name": "stderr",
     "output_type": "stream",
     "text": [
      "[2020-07-22 22:51:16,914] - [INFO] - +-----------------------------------------+\n",
      "[2020-07-22 22:51:16,915] - [INFO] - +    MULTIGRID (LEVELS =  2)              +\n",
      "[2020-07-22 22:51:16,915] - [INFO] - +-----------------------------------------+\n",
      "[2020-07-22 22:51:17,120] - [INFO] - Number of DoFs: 9 (by level: 4,9)\n",
      "[2020-07-22 22:51:17,124] - [INFO] - HB-PCG iterations:   6\n",
      "[2020-07-22 22:51:17,127] - [INFO] - HB condition number: inf\n",
      "[2020-07-22 22:51:17,128] - [INFO] - Total time:     215 ms\n",
      "[2020-07-22 22:51:17,129] - [INFO] - \n",
      "[2020-07-22 22:51:17,129] - [INFO] - +-----------------------------------------+\n",
      "[2020-07-22 22:51:17,130] - [INFO] - +    MULTIGRID (LEVELS =  3)              +\n",
      "[2020-07-22 22:51:17,131] - [INFO] - +-----------------------------------------+\n",
      "[2020-07-22 22:51:17,450] - [INFO] - Number of DoFs: 25 (by level: 4,9,25)\n",
      "[2020-07-22 22:51:17,465] - [INFO] - HB-PCG iterations:   19\n",
      "[2020-07-22 22:51:17,473] - [INFO] - HB condition number: 2.0703408201937252e+18\n",
      "[2020-07-22 22:51:17,474] - [INFO] - Total time:     344 ms\n",
      "[2020-07-22 22:51:17,474] - [INFO] - \n",
      "[2020-07-22 22:51:17,474] - [INFO] - +-----------------------------------------+\n",
      "[2020-07-22 22:51:17,475] - [INFO] - +    MULTIGRID (LEVELS =  4)              +\n",
      "[2020-07-22 22:51:17,475] - [INFO] - +-----------------------------------------+\n",
      "[2020-07-22 22:51:17,750] - [INFO] - Number of DoFs: 81 (by level: 4,9,25,81)\n",
      "[2020-07-22 22:51:17,769] - [INFO] - HB-PCG iterations:   34\n",
      "[2020-07-22 22:51:17,798] - [INFO] - HB condition number: 5.082543809808703e+17\n",
      "[2020-07-22 22:51:17,800] - [INFO] - Total time:     326 ms\n",
      "[2020-07-22 22:51:17,801] - [INFO] - \n",
      "[2020-07-22 22:51:17,801] - [INFO] - +-----------------------------------------+\n",
      "[2020-07-22 22:51:17,802] - [INFO] - +    MULTIGRID (LEVELS =  5)              +\n",
      "[2020-07-22 22:51:17,802] - [INFO] - +-----------------------------------------+\n",
      "[2020-07-22 22:51:18,089] - [INFO] - Number of DoFs: 289 (by level: 4,9,25,81,289)\n",
      "[2020-07-22 22:51:18,118] - [INFO] - HB-PCG iterations:   46\n",
      "[2020-07-22 22:51:18,230] - [INFO] - HB condition number: 1.368027641240362e+18\n",
      "[2020-07-22 22:51:18,233] - [INFO] - Total time:     432 ms\n",
      "[2020-07-22 22:51:18,234] - [INFO] - \n"
     ]
    }
   ],
   "source": [
    "runDemoHB()"
   ]
  },
  {
   "cell_type": "markdown",
   "metadata": {},
   "source": [
    "## Results\n",
    "\n",
    "| Refinements | DoFs | Iterations | Computation time | Convergence rate |\n",
    "| :---: | ------ | :---: | --- | :---: |\n",
    "| 1 |     21 | ? | ? | ? |\n",
    "| 2 |     65 | ? | ? | ? |\n",
    "| 3 |    225 | ? | ? | ? |\n",
    "| 4 |    833 | ? | ? | ? |\n",
    "| 5 |   3201 | ? | ? | ? |\n",
    "| 6 |  12545 | ? | ? | ? |\n",
    "| 7 |  49665 | ? | ? | ? |\n",
    "| 8 | 197633 | ? | ? | ? |\n",
    "| 9 | 788481 | ? | ? | ? |"
   ]
  },
  {
   "cell_type": "code",
   "execution_count": null,
   "metadata": {},
   "outputs": [],
   "source": []
  }
 ],
 "metadata": {
  "kernelspec": {
   "display_name": "Python 3",
   "language": "python",
   "name": "python3"
  },
  "language_info": {
   "codemirror_mode": {
    "name": "ipython",
    "version": 3
   },
   "file_extension": ".py",
   "mimetype": "text/x-python",
   "name": "python",
   "nbconvert_exporter": "python",
   "pygments_lexer": "ipython3",
   "version": "3.7.5"
  }
 },
 "nbformat": 4,
 "nbformat_minor": 4
}
