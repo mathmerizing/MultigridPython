{
 "cells": [
  {
   "cell_type": "markdown",
   "metadata": {
    "slideshow": {
     "slide_type": "slide"
    }
   },
   "source": [
    "# Results of Multigrid for Reaction-Diffusion"
   ]
  },
  {
   "cell_type": "markdown",
   "metadata": {},
   "source": [
    "## Imports"
   ]
  },
  {
   "cell_type": "code",
   "execution_count": 1,
   "metadata": {
    "slideshow": {
     "slide_type": "slide"
    }
   },
   "outputs": [],
   "source": [
    "from main import inputParametersBPX, runDemoBPX, runDemoHB\n",
    "import logging\n",
    "logging.basicConfig(level=logging.INFO , format='[%(asctime)s] - [%(levelname)s] - %(message)s')"
   ]
  },
  {
   "cell_type": "markdown",
   "metadata": {},
   "source": [
    "## Set parameters"
   ]
  },
  {
   "cell_type": "code",
   "execution_count": 2,
   "metadata": {
    "slideshow": {
     "slide_type": "skip"
    }
   },
   "outputs": [
    {
     "name": "stdout",
     "output_type": "stream",
     "text": [
      "==================\n",
      "* DEFAULT VALUES *\n",
      "==================\n",
      "LEVELS              = 5\n",
      "SHOW_GRIDS          = False\n",
      "DEGREE              = 1\n",
      "MAX_ITER            = 100\n",
      "EPSILON             = 1e-08\n",
      "\n",
      "Would you like to change some values? (Y/N): n\n"
     ]
    }
   ],
   "source": [
    "inputParametersBPX()"
   ]
  },
  {
   "cell_type": "markdown",
   "metadata": {},
   "source": [
    "## Demo"
   ]
  },
  {
   "cell_type": "markdown",
   "metadata": {},
   "source": [
    "Now that the user has inserted the parameters of the multigrid algorithm,\n",
    "we start by solving the two-grid method, refine the grid, solve the three-grid method, etc."
   ]
  },
  {
   "cell_type": "code",
   "execution_count": 3,
   "metadata": {},
   "outputs": [
    {
     "name": "stderr",
     "output_type": "stream",
     "text": [
      "[2020-07-21 21:56:45,512] - [INFO] - +-----------------------------------------+\n",
      "[2020-07-21 21:56:45,513] - [INFO] - +    MULTIGRID (LEVELS =  2)              +\n",
      "[2020-07-21 21:56:45,513] - [INFO] - +-----------------------------------------+\n",
      "[2020-07-21 21:56:45,689] - [INFO] - Number of DoFs: 9 (by level: 4,9)\n",
      "/home/julian/Code/Multigrid/MultigridPython/solver.py:84: RuntimeWarning: overflow encountered in double_scalars\n",
      "  beta = 1 / r_tilde.dot(r)\n",
      "/home/julian/Code/Multigrid/MultigridPython/solver.py:95: RuntimeWarning: invalid value encountered in multiply\n",
      "  d = r_tilde + beta * d\n",
      "[2020-07-21 21:56:45,738] - [INFO] - BPX-PCG iterations:   100\n",
      "[2020-07-21 21:56:45,739] - [INFO] - Total time:     228 ms\n",
      "[2020-07-21 21:56:45,740] - [INFO] - \n",
      "[2020-07-21 21:56:45,741] - [INFO] - +-----------------------------------------+\n",
      "[2020-07-21 21:56:45,741] - [INFO] - +    MULTIGRID (LEVELS =  3)              +\n",
      "[2020-07-21 21:56:45,742] - [INFO] - +-----------------------------------------+\n",
      "[2020-07-21 21:56:46,012] - [INFO] - Number of DoFs: 25 (by level: 4,9,25)\n",
      "[2020-07-21 21:56:46,075] - [INFO] - BPX-PCG iterations:   100\n",
      "[2020-07-21 21:56:46,076] - [INFO] - Total time:     336 ms\n",
      "[2020-07-21 21:56:46,077] - [INFO] - \n",
      "[2020-07-21 21:56:46,077] - [INFO] - +-----------------------------------------+\n",
      "[2020-07-21 21:56:46,078] - [INFO] - +    MULTIGRID (LEVELS =  4)              +\n",
      "[2020-07-21 21:56:46,078] - [INFO] - +-----------------------------------------+\n",
      "[2020-07-21 21:56:46,354] - [INFO] - Number of DoFs: 81 (by level: 4,9,25,81)\n",
      "[2020-07-21 21:56:46,440] - [INFO] - BPX-PCG iterations:   100\n",
      "[2020-07-21 21:56:46,441] - [INFO] - Total time:     364 ms\n",
      "[2020-07-21 21:56:46,442] - [INFO] - \n",
      "[2020-07-21 21:56:46,442] - [INFO] - +-----------------------------------------+\n",
      "[2020-07-21 21:56:46,443] - [INFO] - +    MULTIGRID (LEVELS =  5)              +\n",
      "[2020-07-21 21:56:46,443] - [INFO] - +-----------------------------------------+\n",
      "[2020-07-21 21:56:46,741] - [INFO] - Number of DoFs: 289 (by level: 4,9,25,81,289)\n",
      "[2020-07-21 21:56:46,847] - [INFO] - BPX-PCG iterations:   100\n",
      "[2020-07-21 21:56:46,850] - [INFO] - Total time:     407 ms\n",
      "[2020-07-21 21:56:46,851] - [INFO] - \n"
     ]
    }
   ],
   "source": [
    "runDemoBPX()"
   ]
  },
  {
   "cell_type": "code",
   "execution_count": 4,
   "metadata": {},
   "outputs": [
    {
     "name": "stderr",
     "output_type": "stream",
     "text": [
      "[2020-07-21 21:56:47,023] - [INFO] - +-----------------------------------------+\n",
      "[2020-07-21 21:56:47,024] - [INFO] - +    MULTIGRID (LEVELS =  2)              +\n",
      "[2020-07-21 21:56:47,024] - [INFO] - +-----------------------------------------+\n",
      "[2020-07-21 21:56:47,188] - [INFO] - Number of DoFs: 9 (by level: 4,9)\n",
      "[2020-07-21 21:56:47,207] - [INFO] - HB-PCG iterations:   100\n",
      "[2020-07-21 21:56:47,208] - [INFO] - Total time:     185 ms\n",
      "[2020-07-21 21:56:47,209] - [INFO] - \n",
      "[2020-07-21 21:56:47,209] - [INFO] - +-----------------------------------------+\n",
      "[2020-07-21 21:56:47,210] - [INFO] - +    MULTIGRID (LEVELS =  3)              +\n",
      "[2020-07-21 21:56:47,211] - [INFO] - +-----------------------------------------+\n",
      "[2020-07-21 21:56:47,391] - [INFO] - Number of DoFs: 25 (by level: 4,9,25)\n",
      "[2020-07-21 21:56:47,419] - [INFO] - HB-PCG iterations:   100\n",
      "[2020-07-21 21:56:47,420] - [INFO] - Total time:     211 ms\n",
      "[2020-07-21 21:56:47,421] - [INFO] - \n",
      "[2020-07-21 21:56:47,422] - [INFO] - +-----------------------------------------+\n",
      "[2020-07-21 21:56:47,422] - [INFO] - +    MULTIGRID (LEVELS =  4)              +\n",
      "[2020-07-21 21:56:47,423] - [INFO] - +-----------------------------------------+\n",
      "[2020-07-21 21:56:47,702] - [INFO] - Number of DoFs: 81 (by level: 4,9,25,81)\n",
      "[2020-07-21 21:56:47,736] - [INFO] - HB-PCG iterations:   100\n",
      "[2020-07-21 21:56:47,737] - [INFO] - Total time:     316 ms\n",
      "[2020-07-21 21:56:47,738] - [INFO] - \n",
      "[2020-07-21 21:56:47,738] - [INFO] - +-----------------------------------------+\n",
      "[2020-07-21 21:56:47,739] - [INFO] - +    MULTIGRID (LEVELS =  5)              +\n",
      "[2020-07-21 21:56:47,739] - [INFO] - +-----------------------------------------+\n",
      "[2020-07-21 21:56:48,026] - [INFO] - Number of DoFs: 289 (by level: 4,9,25,81,289)\n",
      "[2020-07-21 21:56:48,071] - [INFO] - HB-PCG iterations:   100\n",
      "[2020-07-21 21:56:48,073] - [INFO] - Total time:     335 ms\n",
      "[2020-07-21 21:56:48,074] - [INFO] - \n"
     ]
    }
   ],
   "source": [
    "runDemoHB()"
   ]
  },
  {
   "cell_type": "markdown",
   "metadata": {},
   "source": [
    "## Results\n",
    "\n",
    "| Refinements | DoFs | Iterations | Computation time | Convergence rate |\n",
    "| :---: | ------ | :---: | --- | :---: |\n",
    "| 1 |     21 | ? | ? | ? |\n",
    "| 2 |     65 | ? | ? | ? |\n",
    "| 3 |    225 | ? | ? | ? |\n",
    "| 4 |    833 | ? | ? | ? |\n",
    "| 5 |   3201 | ? | ? | ? |\n",
    "| 6 |  12545 | ? | ? | ? |\n",
    "| 7 |  49665 | ? | ? | ? |\n",
    "| 8 | 197633 | ? | ? | ? |\n",
    "| 9 | 788481 | ? | ? | ? |"
   ]
  },
  {
   "cell_type": "code",
   "execution_count": null,
   "metadata": {},
   "outputs": [],
   "source": []
  }
 ],
 "metadata": {
  "kernelspec": {
   "display_name": "Python 3",
   "language": "python",
   "name": "python3"
  },
  "language_info": {
   "codemirror_mode": {
    "name": "ipython",
    "version": 3
   },
   "file_extension": ".py",
   "mimetype": "text/x-python",
   "name": "python",
   "nbconvert_exporter": "python",
   "pygments_lexer": "ipython3",
   "version": "3.7.5"
  }
 },
 "nbformat": 4,
 "nbformat_minor": 4
}
