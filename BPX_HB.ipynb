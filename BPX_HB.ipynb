{
 "cells": [
  {
   "cell_type": "markdown",
   "metadata": {
    "slideshow": {
     "slide_type": "slide"
    }
   },
   "source": [
    "# Results of Multigrid for Reaction-Diffusion"
   ]
  },
  {
   "cell_type": "markdown",
   "metadata": {},
   "source": [
    "## Imports"
   ]
  },
  {
   "cell_type": "code",
   "execution_count": 1,
   "metadata": {
    "slideshow": {
     "slide_type": "slide"
    }
   },
   "outputs": [
    {
     "name": "stderr",
     "output_type": "stream",
     "text": [
      "[2020-07-21 21:36:18,327] - [DEBUG] - Loaded backend module://ipykernel.pylab.backend_inline version unknown.\n"
     ]
    }
   ],
   "source": [
    "from main import inputParametersBPX, runDemoBPX, runDemoHB\n",
    "import logging\n",
    "logging.basicConfig(level=logging.DEBUG , format='[%(asctime)s] - [%(levelname)s] - %(message)s')"
   ]
  },
  {
   "cell_type": "markdown",
   "metadata": {},
   "source": [
    "## Set parameters"
   ]
  },
  {
   "cell_type": "code",
   "execution_count": 2,
   "metadata": {
    "slideshow": {
     "slide_type": "skip"
    }
   },
   "outputs": [
    {
     "name": "stdout",
     "output_type": "stream",
     "text": [
      "==================\n",
      "* DEFAULT VALUES *\n",
      "==================\n",
      "LEVELS              = 5\n",
      "SHOW_GRIDS          = False\n",
      "DEGREE              = 1\n",
      "MAX_ITER            = 100\n",
      "EPSILON             = 1e-08\n",
      "\n",
      "Would you like to change some values? (Y/N): n\n"
     ]
    }
   ],
   "source": [
    "inputParametersBPX()"
   ]
  },
  {
   "cell_type": "markdown",
   "metadata": {},
   "source": [
    "## Demo"
   ]
  },
  {
   "cell_type": "markdown",
   "metadata": {},
   "source": [
    "Now that the user has inserted the parameters of the multigrid algorithm,\n",
    "we start by solving the two-grid method, refine the grid, solve the three-grid method, etc."
   ]
  },
  {
   "cell_type": "code",
   "execution_count": 3,
   "metadata": {},
   "outputs": [],
   "source": [
    "#runDemoBPX()"
   ]
  },
  {
   "cell_type": "code",
   "execution_count": 4,
   "metadata": {},
   "outputs": [
    {
     "name": "stderr",
     "output_type": "stream",
     "text": [
      "[2020-07-21 21:36:20,548] - [DEBUG] - __init__ took 0 seconds 12 milliseconds.\n",
      "[2020-07-21 21:36:20,549] - [INFO] - +-----------------------------------------+\n",
      "[2020-07-21 21:36:20,551] - [INFO] - +    MULTIGRID (LEVELS =  2)              +\n",
      "[2020-07-21 21:36:20,553] - [INFO] - +-----------------------------------------+\n",
      "[2020-07-21 21:36:20,626] - [INFO] - Number of DoFs: 21 (by level: 8,21)\n",
      "[2020-07-21 21:36:20,634] - [DEBUG] - __call__ took 0 seconds 2 milliseconds.\n",
      "[2020-07-21 21:36:20,643] - [DEBUG] - __call__ took 0 seconds 1 milliseconds.\n",
      "[2020-07-21 21:36:20,645] - [DEBUG] - 0.th residual: 0.3009811157835603\n",
      "[2020-07-21 21:36:20,647] - [DEBUG] - __call__ took 0 seconds 0 milliseconds.\n",
      "[2020-07-21 21:36:20,649] - [DEBUG] - 1.th residual: 0.098656759315928\n",
      "[2020-07-21 21:36:20,651] - [DEBUG] - __call__ took 0 seconds 0 milliseconds.\n",
      "[2020-07-21 21:36:20,657] - [DEBUG] - 2.th residual: 0.050276330107872004\n",
      "[2020-07-21 21:36:20,659] - [DEBUG] - __call__ took 0 seconds 1 milliseconds.\n",
      "[2020-07-21 21:36:20,660] - [DEBUG] - 3.th residual: 0.012707171017695267\n",
      "[2020-07-21 21:36:20,669] - [DEBUG] - __call__ took 0 seconds 1 milliseconds.\n",
      "[2020-07-21 21:36:20,676] - [DEBUG] - 4.th residual: 0.005708546012206299\n",
      "[2020-07-21 21:36:20,683] - [DEBUG] - __call__ took 0 seconds 2 milliseconds.\n",
      "[2020-07-21 21:36:20,687] - [DEBUG] - 5.th residual: 3.394340710628737e-17\n",
      "[2020-07-21 21:36:20,694] - [INFO] - HB-PCG iterations:   6\n",
      "[2020-07-21 21:36:20,698] - [INFO] - Total time:     148 ms\n",
      "[2020-07-21 21:36:20,700] - [INFO] - \n",
      "[2020-07-21 21:36:20,704] - [INFO] - +-----------------------------------------+\n",
      "[2020-07-21 21:36:20,707] - [INFO] - +    MULTIGRID (LEVELS =  3)              +\n",
      "[2020-07-21 21:36:20,708] - [INFO] - +-----------------------------------------+\n",
      "[2020-07-21 21:36:20,966] - [INFO] - Number of DoFs: 65 (by level: 8,21,65)\n",
      "[2020-07-21 21:36:20,973] - [DEBUG] - __call__ took 0 seconds 1 milliseconds.\n",
      "[2020-07-21 21:36:20,976] - [DEBUG] - __call__ took 0 seconds 2 milliseconds.\n",
      "[2020-07-21 21:36:20,978] - [DEBUG] - 0.th residual: 0.3131965172029056\n",
      "[2020-07-21 21:36:20,981] - [DEBUG] - __call__ took 0 seconds 1 milliseconds.\n",
      "[2020-07-21 21:36:20,985] - [DEBUG] - 1.th residual: 0.1932154623422333\n",
      "[2020-07-21 21:36:20,990] - [DEBUG] - __call__ took 0 seconds 1 milliseconds.\n",
      "[2020-07-21 21:36:20,996] - [DEBUG] - 2.th residual: 0.10067387294784258\n",
      "[2020-07-21 21:36:21,002] - [DEBUG] - __call__ took 0 seconds 1 milliseconds.\n",
      "[2020-07-21 21:36:21,013] - [DEBUG] - 3.th residual: 0.06248078649077092\n",
      "[2020-07-21 21:36:21,022] - [DEBUG] - __call__ took 0 seconds 1 milliseconds.\n",
      "[2020-07-21 21:36:21,024] - [DEBUG] - 4.th residual: 0.030976523034502657\n",
      "[2020-07-21 21:36:21,027] - [DEBUG] - __call__ took 0 seconds 1 milliseconds.\n",
      "[2020-07-21 21:36:21,029] - [DEBUG] - 5.th residual: 0.016201388510525154\n",
      "[2020-07-21 21:36:21,031] - [DEBUG] - __call__ took 0 seconds 1 milliseconds.\n",
      "[2020-07-21 21:36:21,033] - [DEBUG] - 6.th residual: 0.008421798551088483\n",
      "[2020-07-21 21:36:21,041] - [DEBUG] - __call__ took 0 seconds 1 milliseconds.\n",
      "[2020-07-21 21:36:21,052] - [DEBUG] - 7.th residual: 0.004488741175253697\n",
      "[2020-07-21 21:36:21,054] - [DEBUG] - __call__ took 0 seconds 1 milliseconds.\n",
      "[2020-07-21 21:36:21,058] - [DEBUG] - 8.th residual: 0.0025851509507950027\n",
      "[2020-07-21 21:36:21,063] - [DEBUG] - __call__ took 0 seconds 1 milliseconds.\n",
      "[2020-07-21 21:36:21,068] - [DEBUG] - 9.th residual: 0.0009054316654930358\n",
      "[2020-07-21 21:36:21,080] - [DEBUG] - __call__ took 0 seconds 3 milliseconds.\n",
      "[2020-07-21 21:36:21,085] - [DEBUG] - 10.th residual: 0.00045157805586330173\n",
      "[2020-07-21 21:36:21,093] - [DEBUG] - __call__ took 0 seconds 3 milliseconds.\n",
      "[2020-07-21 21:36:21,105] - [DEBUG] - 11.th residual: 0.00026232707439093696\n",
      "[2020-07-21 21:36:21,111] - [DEBUG] - __call__ took 0 seconds 2 milliseconds.\n",
      "[2020-07-21 21:36:21,112] - [DEBUG] - 12.th residual: 0.00016788722218561734\n",
      "[2020-07-21 21:36:21,116] - [DEBUG] - __call__ took 0 seconds 1 milliseconds.\n",
      "[2020-07-21 21:36:21,119] - [DEBUG] - 13.th residual: 9.123247264481217e-05\n",
      "[2020-07-21 21:36:21,125] - [DEBUG] - __call__ took 0 seconds 5 milliseconds.\n",
      "[2020-07-21 21:36:21,126] - [DEBUG] - 14.th residual: 2.9739591192075147e-05\n",
      "[2020-07-21 21:36:21,128] - [DEBUG] - __call__ took 0 seconds 1 milliseconds.\n",
      "[2020-07-21 21:36:21,129] - [DEBUG] - 15.th residual: 1.432526495376132e-05\n",
      "[2020-07-21 21:36:21,131] - [DEBUG] - __call__ took 0 seconds 1 milliseconds.\n",
      "[2020-07-21 21:36:21,132] - [DEBUG] - 16.th residual: 1.8109804550061556e-06\n",
      "[2020-07-21 21:36:21,140] - [DEBUG] - __call__ took 0 seconds 2 milliseconds.\n",
      "[2020-07-21 21:36:21,144] - [DEBUG] - 17.th residual: 7.140313704027221e-07\n",
      "[2020-07-21 21:36:21,147] - [DEBUG] - __call__ took 0 seconds 1 milliseconds.\n",
      "[2020-07-21 21:36:21,148] - [DEBUG] - 18.th residual: 2.509056678622843e-07\n",
      "[2020-07-21 21:36:21,150] - [DEBUG] - __call__ took 0 seconds 1 milliseconds.\n",
      "[2020-07-21 21:36:21,151] - [DEBUG] - 19.th residual: 4.4692416806963386e-08\n",
      "[2020-07-21 21:36:21,156] - [DEBUG] - __call__ took 0 seconds 3 milliseconds.\n",
      "[2020-07-21 21:36:21,158] - [DEBUG] - 20.th residual: 2.0193040046609087e-08\n",
      "[2020-07-21 21:36:21,161] - [DEBUG] - __call__ took 0 seconds 1 milliseconds.\n",
      "[2020-07-21 21:36:21,163] - [DEBUG] - 21.th residual: 2.7689490959910586e-09\n",
      "[2020-07-21 21:36:21,165] - [INFO] - HB-PCG iterations:   22\n",
      "[2020-07-21 21:36:21,180] - [INFO] - Total time:     477 ms\n",
      "[2020-07-21 21:36:21,182] - [INFO] - \n",
      "[2020-07-21 21:36:21,183] - [INFO] - +-----------------------------------------+\n",
      "[2020-07-21 21:36:21,184] - [INFO] - +    MULTIGRID (LEVELS =  4)              +\n",
      "[2020-07-21 21:36:21,185] - [INFO] - +-----------------------------------------+\n",
      "[2020-07-21 21:36:21,951] - [INFO] - Number of DoFs: 225 (by level: 8,21,65,225)\n",
      "[2020-07-21 21:36:21,955] - [DEBUG] - __call__ took 0 seconds 0 milliseconds.\n",
      "[2020-07-21 21:36:21,957] - [DEBUG] - __call__ took 0 seconds 1 milliseconds.\n",
      "[2020-07-21 21:36:21,959] - [DEBUG] - 0.th residual: 0.25870683053494814\n",
      "[2020-07-21 21:36:21,962] - [DEBUG] - __call__ took 0 seconds 2 milliseconds.\n",
      "[2020-07-21 21:36:21,963] - [DEBUG] - 1.th residual: 0.190342300775754\n",
      "[2020-07-21 21:36:21,970] - [DEBUG] - __call__ took 0 seconds 6 milliseconds.\n",
      "[2020-07-21 21:36:21,971] - [DEBUG] - 2.th residual: 0.11727680753486192\n",
      "[2020-07-21 21:36:21,979] - [DEBUG] - __call__ took 0 seconds 4 milliseconds.\n",
      "[2020-07-21 21:36:21,981] - [DEBUG] - 3.th residual: 0.08984510814394159\n",
      "[2020-07-21 21:36:21,986] - [DEBUG] - __call__ took 0 seconds 3 milliseconds.\n",
      "[2020-07-21 21:36:21,990] - [DEBUG] - 4.th residual: 0.06307481984204256\n",
      "[2020-07-21 21:36:21,999] - [DEBUG] - __call__ took 0 seconds 2 milliseconds.\n",
      "[2020-07-21 21:36:22,003] - [DEBUG] - 5.th residual: 0.03783388093724376\n",
      "[2020-07-21 21:36:22,013] - [DEBUG] - __call__ took 0 seconds 4 milliseconds.\n",
      "[2020-07-21 21:36:22,020] - [DEBUG] - 6.th residual: 0.024241844654319097\n",
      "[2020-07-21 21:36:22,030] - [DEBUG] - __call__ took 0 seconds 7 milliseconds.\n",
      "[2020-07-21 21:36:22,033] - [DEBUG] - 7.th residual: 0.015122284359112276\n",
      "[2020-07-21 21:36:22,041] - [DEBUG] - __call__ took 0 seconds 2 milliseconds.\n",
      "[2020-07-21 21:36:22,042] - [DEBUG] - 8.th residual: 0.008436198942819165\n",
      "[2020-07-21 21:36:22,047] - [DEBUG] - __call__ took 0 seconds 3 milliseconds.\n",
      "[2020-07-21 21:36:22,048] - [DEBUG] - 9.th residual: 0.004900287859971818\n",
      "[2020-07-21 21:36:22,050] - [DEBUG] - __call__ took 0 seconds 1 milliseconds.\n",
      "[2020-07-21 21:36:22,051] - [DEBUG] - 10.th residual: 0.0031590307212432237\n",
      "[2020-07-21 21:36:22,054] - [DEBUG] - __call__ took 0 seconds 1 milliseconds.\n",
      "[2020-07-21 21:36:22,059] - [DEBUG] - 11.th residual: 0.001982263283473965\n",
      "[2020-07-21 21:36:22,063] - [DEBUG] - __call__ took 0 seconds 2 milliseconds.\n",
      "[2020-07-21 21:36:22,071] - [DEBUG] - 12.th residual: 0.0012794363383710407\n",
      "[2020-07-21 21:36:22,074] - [DEBUG] - __call__ took 0 seconds 2 milliseconds.\n",
      "[2020-07-21 21:36:22,078] - [DEBUG] - 13.th residual: 0.0008610801519376781\n",
      "[2020-07-21 21:36:22,081] - [DEBUG] - __call__ took 0 seconds 1 milliseconds.\n",
      "[2020-07-21 21:36:22,082] - [DEBUG] - 14.th residual: 0.0005677461123733531\n",
      "[2020-07-21 21:36:22,085] - [DEBUG] - __call__ took 0 seconds 3 milliseconds.\n"
     ]
    },
    {
     "name": "stderr",
     "output_type": "stream",
     "text": [
      "[2020-07-21 21:36:22,090] - [DEBUG] - 15.th residual: 0.0003345804646417578\n",
      "[2020-07-21 21:36:22,105] - [DEBUG] - __call__ took 0 seconds 2 milliseconds.\n",
      "[2020-07-21 21:36:22,109] - [DEBUG] - 16.th residual: 0.00020114147864113574\n",
      "[2020-07-21 21:36:22,134] - [DEBUG] - __call__ took 0 seconds 22 milliseconds.\n",
      "[2020-07-21 21:36:22,137] - [DEBUG] - 17.th residual: 0.00012347777054318688\n",
      "[2020-07-21 21:36:22,140] - [DEBUG] - __call__ took 0 seconds 2 milliseconds.\n",
      "[2020-07-21 21:36:22,141] - [DEBUG] - 18.th residual: 7.25034757071795e-05\n",
      "[2020-07-21 21:36:22,144] - [DEBUG] - __call__ took 0 seconds 2 milliseconds.\n",
      "[2020-07-21 21:36:22,145] - [DEBUG] - 19.th residual: 5.095031402048011e-05\n",
      "[2020-07-21 21:36:22,148] - [DEBUG] - __call__ took 0 seconds 2 milliseconds.\n",
      "[2020-07-21 21:36:22,149] - [DEBUG] - 20.th residual: 3.508073828436227e-05\n",
      "[2020-07-21 21:36:22,152] - [DEBUG] - __call__ took 0 seconds 1 milliseconds.\n",
      "[2020-07-21 21:36:22,153] - [DEBUG] - 21.th residual: 1.9199820252249265e-05\n",
      "[2020-07-21 21:36:22,160] - [DEBUG] - __call__ took 0 seconds 1 milliseconds.\n",
      "[2020-07-21 21:36:22,161] - [DEBUG] - 22.th residual: 9.31921651385736e-06\n",
      "[2020-07-21 21:36:22,168] - [DEBUG] - __call__ took 0 seconds 5 milliseconds.\n",
      "[2020-07-21 21:36:22,171] - [DEBUG] - 23.th residual: 4.681490797072828e-06\n",
      "[2020-07-21 21:36:22,176] - [DEBUG] - __call__ took 0 seconds 2 milliseconds.\n",
      "[2020-07-21 21:36:22,178] - [DEBUG] - 24.th residual: 2.7399835328544254e-06\n",
      "[2020-07-21 21:36:22,182] - [DEBUG] - __call__ took 0 seconds 3 milliseconds.\n",
      "[2020-07-21 21:36:22,183] - [DEBUG] - 25.th residual: 1.4712633988357096e-06\n",
      "[2020-07-21 21:36:22,191] - [DEBUG] - __call__ took 0 seconds 4 milliseconds.\n",
      "[2020-07-21 21:36:22,196] - [DEBUG] - 26.th residual: 6.579542835192139e-07\n",
      "[2020-07-21 21:36:22,198] - [DEBUG] - __call__ took 0 seconds 1 milliseconds.\n",
      "[2020-07-21 21:36:22,200] - [DEBUG] - 27.th residual: 3.4175449472365285e-07\n",
      "[2020-07-21 21:36:22,216] - [DEBUG] - __call__ took 0 seconds 3 milliseconds.\n",
      "[2020-07-21 21:36:22,218] - [DEBUG] - 28.th residual: 1.55159474432723e-07\n",
      "[2020-07-21 21:36:22,230] - [DEBUG] - __call__ took 0 seconds 2 milliseconds.\n",
      "[2020-07-21 21:36:22,232] - [DEBUG] - 29.th residual: 6.264450314332447e-08\n",
      "[2020-07-21 21:36:22,246] - [DEBUG] - __call__ took 0 seconds 6 milliseconds.\n",
      "[2020-07-21 21:36:22,256] - [DEBUG] - 30.th residual: 4.081069715252723e-08\n",
      "[2020-07-21 21:36:22,268] - [DEBUG] - __call__ took 0 seconds 7 milliseconds.\n",
      "[2020-07-21 21:36:22,271] - [DEBUG] - 31.th residual: 2.4047072568869094e-08\n",
      "[2020-07-21 21:36:22,275] - [DEBUG] - __call__ took 0 seconds 2 milliseconds.\n",
      "[2020-07-21 21:36:22,280] - [DEBUG] - 32.th residual: 1.0778417646976796e-08\n",
      "[2020-07-21 21:36:22,284] - [DEBUG] - __call__ took 0 seconds 2 milliseconds.\n",
      "[2020-07-21 21:36:22,291] - [DEBUG] - 33.th residual: 4.7881245043559765e-09\n",
      "[2020-07-21 21:36:22,297] - [INFO] - HB-PCG iterations:   34\n",
      "[2020-07-21 21:36:22,306] - [INFO] - Total time:     1 s 124 ms\n",
      "[2020-07-21 21:36:22,312] - [INFO] - \n",
      "[2020-07-21 21:36:22,317] - [INFO] - +-----------------------------------------+\n",
      "[2020-07-21 21:36:22,318] - [INFO] - +    MULTIGRID (LEVELS =  5)              +\n",
      "[2020-07-21 21:36:22,320] - [INFO] - +-----------------------------------------+\n",
      "[2020-07-21 21:36:23,961] - [INFO] - Number of DoFs: 833 (by level: 8,21,65,225,833)\n",
      "[2020-07-21 21:36:23,987] - [DEBUG] - __call__ took 0 seconds 3 milliseconds.\n",
      "[2020-07-21 21:36:23,995] - [DEBUG] - __call__ took 0 seconds 3 milliseconds.\n",
      "[2020-07-21 21:36:23,996] - [DEBUG] - 0.th residual: 0.19658074321979963\n",
      "[2020-07-21 21:36:24,001] - [DEBUG] - __call__ took 0 seconds 3 milliseconds.\n",
      "[2020-07-21 21:36:24,008] - [DEBUG] - 1.th residual: 0.16838589731765574\n",
      "[2020-07-21 21:36:24,025] - [DEBUG] - __call__ took 0 seconds 8 milliseconds.\n",
      "[2020-07-21 21:36:24,029] - [DEBUG] - 2.th residual: 0.10727566881967494\n",
      "[2020-07-21 21:36:24,041] - [DEBUG] - __call__ took 0 seconds 8 milliseconds.\n",
      "[2020-07-21 21:36:24,052] - [DEBUG] - 3.th residual: 0.08830149037229003\n",
      "[2020-07-21 21:36:24,063] - [DEBUG] - __call__ took 0 seconds 6 milliseconds.\n",
      "[2020-07-21 21:36:24,064] - [DEBUG] - 4.th residual: 0.07175281868342394\n",
      "[2020-07-21 21:36:24,074] - [DEBUG] - __call__ took 0 seconds 9 milliseconds.\n",
      "[2020-07-21 21:36:24,077] - [DEBUG] - 5.th residual: 0.05119360016208359\n",
      "[2020-07-21 21:36:24,092] - [DEBUG] - __call__ took 0 seconds 7 milliseconds.\n",
      "[2020-07-21 21:36:24,094] - [DEBUG] - 6.th residual: 0.036194763198510005\n",
      "[2020-07-21 21:36:24,107] - [DEBUG] - __call__ took 0 seconds 9 milliseconds.\n",
      "[2020-07-21 21:36:24,113] - [DEBUG] - 7.th residual: 0.026283191468813975\n",
      "[2020-07-21 21:36:24,122] - [DEBUG] - __call__ took 0 seconds 5 milliseconds.\n",
      "[2020-07-21 21:36:24,123] - [DEBUG] - 8.th residual: 0.01700365069340515\n",
      "[2020-07-21 21:36:24,134] - [DEBUG] - __call__ took 0 seconds 7 milliseconds.\n",
      "[2020-07-21 21:36:24,137] - [DEBUG] - 9.th residual: 0.01200330841743439\n",
      "[2020-07-21 21:36:24,145] - [DEBUG] - __call__ took 0 seconds 5 milliseconds.\n",
      "[2020-07-21 21:36:24,147] - [DEBUG] - 10.th residual: 0.00797165299329665\n",
      "[2020-07-21 21:36:24,158] - [DEBUG] - __call__ took 0 seconds 6 milliseconds.\n",
      "[2020-07-21 21:36:24,162] - [DEBUG] - 11.th residual: 0.005469346699884622\n",
      "[2020-07-21 21:36:24,181] - [DEBUG] - __call__ took 0 seconds 8 milliseconds.\n",
      "[2020-07-21 21:36:24,183] - [DEBUG] - 12.th residual: 0.003871987278674151\n",
      "[2020-07-21 21:36:24,191] - [DEBUG] - __call__ took 0 seconds 7 milliseconds.\n",
      "[2020-07-21 21:36:24,203] - [DEBUG] - 13.th residual: 0.0024436060365928894\n",
      "[2020-07-21 21:36:24,225] - [DEBUG] - __call__ took 0 seconds 13 milliseconds.\n",
      "[2020-07-21 21:36:24,226] - [DEBUG] - 14.th residual: 0.0016424309554807814\n",
      "[2020-07-21 21:36:24,238] - [DEBUG] - __call__ took 0 seconds 9 milliseconds.\n",
      "[2020-07-21 21:36:24,252] - [DEBUG] - 15.th residual: 0.0011691771306956186\n",
      "[2020-07-21 21:36:24,268] - [DEBUG] - __call__ took 0 seconds 9 milliseconds.\n",
      "[2020-07-21 21:36:24,284] - [DEBUG] - 16.th residual: 0.00088114422191788\n",
      "[2020-07-21 21:36:24,301] - [DEBUG] - __call__ took 0 seconds 4 milliseconds.\n",
      "[2020-07-21 21:36:24,320] - [DEBUG] - 17.th residual: 0.0006615825848076578\n",
      "[2020-07-21 21:36:24,331] - [DEBUG] - __call__ took 0 seconds 5 milliseconds.\n",
      "[2020-07-21 21:36:24,332] - [DEBUG] - 18.th residual: 0.0004820058350438424\n",
      "[2020-07-21 21:36:24,348] - [DEBUG] - __call__ took 0 seconds 10 milliseconds.\n",
      "[2020-07-21 21:36:24,351] - [DEBUG] - 19.th residual: 0.0003488091761385877\n",
      "[2020-07-21 21:36:24,362] - [DEBUG] - __call__ took 0 seconds 6 milliseconds.\n",
      "[2020-07-21 21:36:24,371] - [DEBUG] - 20.th residual: 0.0002477658828753334\n",
      "[2020-07-21 21:36:24,381] - [DEBUG] - __call__ took 0 seconds 4 milliseconds.\n",
      "[2020-07-21 21:36:24,384] - [DEBUG] - 21.th residual: 0.00016953408838310018\n",
      "[2020-07-21 21:36:24,405] - [DEBUG] - __call__ took 0 seconds 8 milliseconds.\n",
      "[2020-07-21 21:36:24,410] - [DEBUG] - 22.th residual: 0.00010794738864987712\n",
      "[2020-07-21 21:36:24,420] - [DEBUG] - __call__ took 0 seconds 5 milliseconds.\n",
      "[2020-07-21 21:36:24,426] - [DEBUG] - 23.th residual: 7.276603954722944e-05\n",
      "[2020-07-21 21:36:24,449] - [DEBUG] - __call__ took 0 seconds 17 milliseconds.\n",
      "[2020-07-21 21:36:24,450] - [DEBUG] - 24.th residual: 5.0033812120314086e-05\n",
      "[2020-07-21 21:36:24,464] - [DEBUG] - __call__ took 0 seconds 12 milliseconds.\n",
      "[2020-07-21 21:36:24,466] - [DEBUG] - 25.th residual: 3.4352999580423376e-05\n",
      "[2020-07-21 21:36:24,478] - [DEBUG] - __call__ took 0 seconds 6 milliseconds.\n",
      "[2020-07-21 21:36:24,485] - [DEBUG] - 26.th residual: 2.478053238443251e-05\n",
      "[2020-07-21 21:36:24,493] - [DEBUG] - __call__ took 0 seconds 4 milliseconds.\n",
      "[2020-07-21 21:36:24,495] - [DEBUG] - 27.th residual: 1.709390910837757e-05\n",
      "[2020-07-21 21:36:24,509] - [DEBUG] - __call__ took 0 seconds 11 milliseconds.\n",
      "[2020-07-21 21:36:24,511] - [DEBUG] - 28.th residual: 1.138757749391015e-05\n",
      "[2020-07-21 21:36:24,516] - [DEBUG] - __call__ took 0 seconds 4 milliseconds.\n",
      "[2020-07-21 21:36:24,517] - [DEBUG] - 29.th residual: 8.095198568450375e-06\n",
      "[2020-07-21 21:36:24,540] - [DEBUG] - __call__ took 0 seconds 21 milliseconds.\n",
      "[2020-07-21 21:36:24,543] - [DEBUG] - 30.th residual: 5.7026254918491205e-06\n"
     ]
    },
    {
     "name": "stderr",
     "output_type": "stream",
     "text": [
      "[2020-07-21 21:36:24,553] - [DEBUG] - __call__ took 0 seconds 7 milliseconds.\n",
      "[2020-07-21 21:36:24,556] - [DEBUG] - 31.th residual: 3.7781137607149837e-06\n",
      "[2020-07-21 21:36:24,562] - [DEBUG] - __call__ took 0 seconds 5 milliseconds.\n",
      "[2020-07-21 21:36:24,563] - [DEBUG] - 32.th residual: 2.447289583297254e-06\n",
      "[2020-07-21 21:36:24,575] - [DEBUG] - __call__ took 0 seconds 10 milliseconds.\n",
      "[2020-07-21 21:36:24,581] - [DEBUG] - 33.th residual: 1.2888929125759748e-06\n",
      "[2020-07-21 21:36:24,593] - [DEBUG] - __call__ took 0 seconds 9 milliseconds.\n",
      "[2020-07-21 21:36:24,597] - [DEBUG] - 34.th residual: 7.459199865446558e-07\n",
      "[2020-07-21 21:36:24,606] - [DEBUG] - __call__ took 0 seconds 7 milliseconds.\n",
      "[2020-07-21 21:36:24,608] - [DEBUG] - 35.th residual: 5.103091350100043e-07\n",
      "[2020-07-21 21:36:24,623] - [DEBUG] - __call__ took 0 seconds 7 milliseconds.\n",
      "[2020-07-21 21:36:24,624] - [DEBUG] - 36.th residual: 3.7439840685030377e-07\n",
      "[2020-07-21 21:36:24,631] - [DEBUG] - __call__ took 0 seconds 5 milliseconds.\n",
      "[2020-07-21 21:36:24,633] - [DEBUG] - 37.th residual: 2.808224835139881e-07\n",
      "[2020-07-21 21:36:24,644] - [DEBUG] - __call__ took 0 seconds 6 milliseconds.\n",
      "[2020-07-21 21:36:24,649] - [DEBUG] - 38.th residual: 2.0216083271188985e-07\n",
      "[2020-07-21 21:36:24,665] - [DEBUG] - __call__ took 0 seconds 8 milliseconds.\n",
      "[2020-07-21 21:36:24,673] - [DEBUG] - 39.th residual: 1.2111682084280506e-07\n",
      "[2020-07-21 21:36:24,688] - [DEBUG] - __call__ took 0 seconds 9 milliseconds.\n",
      "[2020-07-21 21:36:24,690] - [DEBUG] - 40.th residual: 6.964009749558026e-08\n",
      "[2020-07-21 21:36:24,703] - [DEBUG] - __call__ took 0 seconds 9 milliseconds.\n",
      "[2020-07-21 21:36:24,710] - [DEBUG] - 41.th residual: 3.983218755529953e-08\n",
      "[2020-07-21 21:36:24,718] - [DEBUG] - __call__ took 0 seconds 5 milliseconds.\n",
      "[2020-07-21 21:36:24,719] - [DEBUG] - 42.th residual: 2.555415212646607e-08\n",
      "[2020-07-21 21:36:24,742] - [DEBUG] - __call__ took 0 seconds 14 milliseconds.\n",
      "[2020-07-21 21:36:24,745] - [DEBUG] - 43.th residual: 1.718772345695776e-08\n",
      "[2020-07-21 21:36:24,760] - [DEBUG] - __call__ took 0 seconds 9 milliseconds.\n",
      "[2020-07-21 21:36:24,762] - [DEBUG] - 44.th residual: 1.0585246668915904e-08\n",
      "[2020-07-21 21:36:24,780] - [DEBUG] - __call__ took 0 seconds 17 milliseconds.\n",
      "[2020-07-21 21:36:24,784] - [DEBUG] - 45.th residual: 6.86129894924651e-09\n",
      "[2020-07-21 21:36:24,794] - [INFO] - HB-PCG iterations:   46\n",
      "[2020-07-21 21:36:24,813] - [INFO] - Total time:     2 s 497 ms\n",
      "[2020-07-21 21:36:24,816] - [INFO] - \n"
     ]
    }
   ],
   "source": [
    "runDemoHB()"
   ]
  },
  {
   "cell_type": "markdown",
   "metadata": {},
   "source": [
    "## Results\n",
    "\n",
    "| Refinements | DoFs | Iterations | Computation time | Convergence rate |\n",
    "| :---: | ------ | :---: | --- | :---: |\n",
    "| 1 |     21 | ? | ? | ? |\n",
    "| 2 |     65 | ? | ? | ? |\n",
    "| 3 |    225 | ? | ? | ? |\n",
    "| 4 |    833 | ? | ? | ? |\n",
    "| 5 |   3201 | ? | ? | ? |\n",
    "| 6 |  12545 | ? | ? | ? |\n",
    "| 7 |  49665 | ? | ? | ? |\n",
    "| 8 | 197633 | ? | ? | ? |\n",
    "| 9 | 788481 | ? | ? | ? |"
   ]
  },
  {
   "cell_type": "code",
   "execution_count": null,
   "metadata": {},
   "outputs": [],
   "source": []
  }
 ],
 "metadata": {
  "kernelspec": {
   "display_name": "Python 3",
   "language": "python",
   "name": "python3"
  },
  "language_info": {
   "codemirror_mode": {
    "name": "ipython",
    "version": 3
   },
   "file_extension": ".py",
   "mimetype": "text/x-python",
   "name": "python",
   "nbconvert_exporter": "python",
   "pygments_lexer": "ipython3",
   "version": "3.7.1"
  }
 },
 "nbformat": 4,
 "nbformat_minor": 4
}
