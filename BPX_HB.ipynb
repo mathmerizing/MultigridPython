{
 "cells": [
  {
   "cell_type": "markdown",
   "metadata": {
    "slideshow": {
     "slide_type": "slide"
    }
   },
   "source": [
    "# Results of Multigrid for Reaction-Diffusion"
   ]
  },
  {
   "cell_type": "markdown",
   "metadata": {},
   "source": [
    "## Imports"
   ]
  },
  {
   "cell_type": "code",
   "execution_count": 1,
   "metadata": {
    "slideshow": {
     "slide_type": "slide"
    }
   },
   "outputs": [],
   "source": [
    "from main import inputParametersBPX, runDemoBPX, runDemoHB\n",
    "import logging\n",
    "logging.basicConfig(level=logging.INFO , format='[%(asctime)s] - [%(levelname)s] - %(message)s')"
   ]
  },
  {
   "cell_type": "markdown",
   "metadata": {},
   "source": [
    "## Set parameters"
   ]
  },
  {
   "cell_type": "code",
   "execution_count": 2,
   "metadata": {
    "slideshow": {
     "slide_type": "skip"
    }
   },
   "outputs": [
    {
     "name": "stdout",
     "output_type": "stream",
     "text": [
      "==================\n",
      "* DEFAULT VALUES *\n",
      "==================\n",
      "LEVELS              = 5\n",
      "SHOW_GRIDS          = False\n",
      "DEGREE              = 1\n",
      "MAX_ITER            = 100\n",
      "EPSILON             = 1e-08\n",
      "\n",
      "Would you like to change some values? (Y/N): n\n"
     ]
    }
   ],
   "source": [
    "inputParametersBPX()"
   ]
  },
  {
   "cell_type": "markdown",
   "metadata": {},
   "source": [
    "## Demo"
   ]
  },
  {
   "cell_type": "markdown",
   "metadata": {},
   "source": [
    "Now that the user has inserted the parameters of the multigrid algorithm,\n",
    "we start by solving the two-grid method, refine the grid, solve the three-grid method, etc."
   ]
  },
  {
   "cell_type": "code",
   "execution_count": 3,
   "metadata": {},
   "outputs": [
    {
     "name": "stderr",
     "output_type": "stream",
     "text": [
      "[2020-07-23 21:22:21,182] - [INFO] - +-----------------------------------------+\n",
      "[2020-07-23 21:22:21,183] - [INFO] - +    MULTIGRID (LEVELS =  2)              +\n",
      "[2020-07-23 21:22:21,183] - [INFO] - +-----------------------------------------+\n",
      "[2020-07-23 21:22:21,368] - [INFO] - Number of DoFs: 21 (by level: 8,21)\n",
      "[2020-07-23 21:22:21,377] - [INFO] - BPX-PCG iterations:   6\n",
      "[2020-07-23 21:22:21,378] - [INFO] - Total time:     196 ms\n",
      "[2020-07-23 21:22:21,378] - [INFO] - \n",
      "[2020-07-23 21:22:21,379] - [INFO] - +-----------------------------------------+\n",
      "[2020-07-23 21:22:21,379] - [INFO] - +    MULTIGRID (LEVELS =  3)              +\n",
      "[2020-07-23 21:22:21,380] - [INFO] - +-----------------------------------------+\n",
      "[2020-07-23 21:22:21,655] - [INFO] - Number of DoFs: 65 (by level: 8,21,65)\n",
      "[2020-07-23 21:22:21,673] - [INFO] - BPX-PCG iterations:   17\n",
      "[2020-07-23 21:22:21,675] - [INFO] - Total time:     296 ms\n",
      "[2020-07-23 21:22:21,675] - [INFO] - \n",
      "[2020-07-23 21:22:21,676] - [INFO] - +-----------------------------------------+\n",
      "[2020-07-23 21:22:21,676] - [INFO] - +    MULTIGRID (LEVELS =  4)              +\n",
      "[2020-07-23 21:22:21,677] - [INFO] - +-----------------------------------------+\n",
      "[2020-07-23 21:22:21,955] - [INFO] - Number of DoFs: 225 (by level: 8,21,65,225)\n",
      "[2020-07-23 21:22:21,983] - [INFO] - BPX-PCG iterations:   22\n",
      "[2020-07-23 21:22:21,985] - [INFO] - Total time:     309 ms\n",
      "[2020-07-23 21:22:21,985] - [INFO] - \n",
      "[2020-07-23 21:22:21,985] - [INFO] - +-----------------------------------------+\n",
      "[2020-07-23 21:22:21,986] - [INFO] - +    MULTIGRID (LEVELS =  5)              +\n",
      "[2020-07-23 21:22:21,987] - [INFO] - +-----------------------------------------+\n",
      "[2020-07-23 21:22:22,395] - [INFO] - Number of DoFs: 833 (by level: 8,21,65,225,833)\n",
      "[2020-07-23 21:22:22,452] - [INFO] - BPX-PCG iterations:   25\n",
      "[2020-07-23 21:22:22,457] - [INFO] - Total time:     471 ms\n",
      "[2020-07-23 21:22:22,458] - [INFO] - \n"
     ]
    }
   ],
   "source": [
    "runDemoBPX()"
   ]
  },
  {
   "cell_type": "code",
   "execution_count": 4,
   "metadata": {},
   "outputs": [
    {
     "name": "stderr",
     "output_type": "stream",
     "text": [
      "[2020-07-23 21:22:22,800] - [INFO] - +-----------------------------------------+\n",
      "[2020-07-23 21:22:22,801] - [INFO] - +    MULTIGRID (LEVELS =  2)              +\n",
      "[2020-07-23 21:22:22,801] - [INFO] - +-----------------------------------------+\n",
      "[2020-07-23 21:22:22,975] - [INFO] - Number of DoFs: 21 (by level: 8,21)\n",
      "[2020-07-23 21:22:22,981] - [INFO] - HB-PCG iterations:   6\n",
      "[2020-07-23 21:22:22,982] - [INFO] - Total time:     183 ms\n",
      "[2020-07-23 21:22:22,983] - [INFO] - \n",
      "[2020-07-23 21:22:22,984] - [INFO] - +-----------------------------------------+\n",
      "[2020-07-23 21:22:22,985] - [INFO] - +    MULTIGRID (LEVELS =  3)              +\n",
      "[2020-07-23 21:22:22,985] - [INFO] - +-----------------------------------------+\n",
      "[2020-07-23 21:22:23,270] - [INFO] - Number of DoFs: 65 (by level: 8,21,65)\n",
      "[2020-07-23 21:22:23,284] - [INFO] - HB-PCG iterations:   22\n",
      "[2020-07-23 21:22:23,285] - [INFO] - Total time:     302 ms\n",
      "[2020-07-23 21:22:23,286] - [INFO] - \n",
      "[2020-07-23 21:22:23,286] - [INFO] - +-----------------------------------------+\n",
      "[2020-07-23 21:22:23,287] - [INFO] - +    MULTIGRID (LEVELS =  4)              +\n",
      "[2020-07-23 21:22:23,287] - [INFO] - +-----------------------------------------+\n",
      "[2020-07-23 21:22:23,567] - [INFO] - Number of DoFs: 225 (by level: 8,21,65,225)\n",
      "[2020-07-23 21:22:23,597] - [INFO] - HB-PCG iterations:   34\n",
      "[2020-07-23 21:22:23,599] - [INFO] - Total time:     312 ms\n",
      "[2020-07-23 21:22:23,599] - [INFO] - \n",
      "[2020-07-23 21:22:23,600] - [INFO] - +-----------------------------------------+\n",
      "[2020-07-23 21:22:23,600] - [INFO] - +    MULTIGRID (LEVELS =  5)              +\n",
      "[2020-07-23 21:22:23,600] - [INFO] - +-----------------------------------------+\n",
      "[2020-07-23 21:22:24,014] - [INFO] - Number of DoFs: 833 (by level: 8,21,65,225,833)\n",
      "[2020-07-23 21:22:24,099] - [INFO] - HB-PCG iterations:   46\n",
      "[2020-07-23 21:22:24,103] - [INFO] - Total time:     504 ms\n",
      "[2020-07-23 21:22:24,104] - [INFO] - \n"
     ]
    }
   ],
   "source": [
    "runDemoHB()"
   ]
  },
  {
   "cell_type": "markdown",
   "metadata": {},
   "source": [
    "## Results\n",
    "\n",
    "| Refinements | DoFs | Iterations | Computation time | Convergence rate |\n",
    "| :---: | ------ | :---: | --- | :---: |\n",
    "| 1 |     21 | ? | ? | ? |\n",
    "| 2 |     65 | ? | ? | ? |\n",
    "| 3 |    225 | ? | ? | ? |\n",
    "| 4 |    833 | ? | ? | ? |\n",
    "| 5 |   3201 | ? | ? | ? |\n",
    "| 6 |  12545 | ? | ? | ? |\n",
    "| 7 |  49665 | ? | ? | ? |\n",
    "| 8 | 197633 | ? | ? | ? |\n",
    "| 9 | 788481 | ? | ? | ? |"
   ]
  },
  {
   "cell_type": "code",
   "execution_count": null,
   "metadata": {},
   "outputs": [],
   "source": []
  }
 ],
 "metadata": {
  "kernelspec": {
   "display_name": "Python 3",
   "language": "python",
   "name": "python3"
  },
  "language_info": {
   "codemirror_mode": {
    "name": "ipython",
    "version": 3
   },
   "file_extension": ".py",
   "mimetype": "text/x-python",
   "name": "python",
   "nbconvert_exporter": "python",
   "pygments_lexer": "ipython3",
   "version": "3.7.5"
  }
 },
 "nbformat": 4,
 "nbformat_minor": 4
}
