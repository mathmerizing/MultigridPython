{
 "cells": [
  {
   "cell_type": "markdown",
   "metadata": {
    "slideshow": {
     "slide_type": "slide"
    }
   },
   "source": [
    "# Results of Multigrid for Reaction-Diffusion"
   ]
  },
  {
   "cell_type": "markdown",
   "metadata": {},
   "source": [
    "## Imports"
   ]
  },
  {
   "cell_type": "code",
   "execution_count": 1,
   "metadata": {
    "slideshow": {
     "slide_type": "slide"
    }
   },
   "outputs": [],
   "source": [
    "from main import inputParametersBPX, runDemoBPX\n",
    "import logging\n",
    "logging.basicConfig(level=logging.INFO , format='[%(asctime)s] - [%(levelname)s] - %(message)s')"
   ]
  },
  {
   "cell_type": "markdown",
   "metadata": {},
   "source": [
    "## Set parameters"
   ]
  },
  {
   "cell_type": "code",
   "execution_count": 2,
   "metadata": {
    "slideshow": {
     "slide_type": "skip"
    }
   },
   "outputs": [
    {
     "name": "stdout",
     "output_type": "stream",
     "text": [
      "==================\n",
      "* DEFAULT VALUES *\n",
      "==================\n",
      "LEVELS              = 5\n",
      "SHOW_GRIDS          = False\n",
      "DEGREE              = 1\n",
      "MAX_ITER            = 100\n",
      "EPSILON             = 1e-08\n",
      "\n",
      "Would you like to change some values? (Y/N): y\n",
      "Number of MG levels (default: 5) = 8\n",
      "Plot grids (default: False) = \n",
      "Degree of FE (default: 1) = \n",
      "Maximum number of MG iterations (default: 100) = \n",
      "Tolerance epsilon (default: 1e-08) = \n",
      "\n",
      "=================\n",
      "* CUSTOM VALUES *\n",
      "=================\n",
      "LEVELS              = 8\n",
      "SHOW_GRIDS          = False\n",
      "DEGREE              = 1\n",
      "MAX_ITER            = 100\n",
      "EPSILON             = 1e-08\n",
      "\n"
     ]
    }
   ],
   "source": [
    "inputParametersBPX()"
   ]
  },
  {
   "cell_type": "markdown",
   "metadata": {},
   "source": [
    "## Demo"
   ]
  },
  {
   "cell_type": "markdown",
   "metadata": {},
   "source": [
    "Now that the user has inserted the parameters of the multigrid algorithm,\n",
    "we start by solving the two-grid method, refine the grid, solve the three-grid method, etc."
   ]
  },
  {
   "cell_type": "code",
   "execution_count": 3,
   "metadata": {},
   "outputs": [
    {
     "name": "stderr",
     "output_type": "stream",
     "text": [
      "[2020-07-16 23:11:45,076] - [INFO] - +-----------------------------------------+\n",
      "[2020-07-16 23:11:45,077] - [INFO] - +    MULTIGRID (LEVELS =  2)              +\n",
      "[2020-07-16 23:11:45,078] - [INFO] - +-----------------------------------------+\n",
      "[2020-07-16 23:11:45,359] - [INFO] - Number of DoFs: 21 (by level: 8,21)\n",
      "[2020-07-16 23:11:45,366] - [INFO] - BPX-PCG iterations:   6\n",
      "[2020-07-16 23:11:45,367] - [INFO] - Total time:     292 ms\n",
      "[2020-07-16 23:11:45,368] - [INFO] - \n",
      "[2020-07-16 23:11:45,368] - [INFO] - +-----------------------------------------+\n",
      "[2020-07-16 23:11:45,369] - [INFO] - +    MULTIGRID (LEVELS =  3)              +\n",
      "[2020-07-16 23:11:45,369] - [INFO] - +-----------------------------------------+\n",
      "[2020-07-16 23:11:45,657] - [INFO] - Number of DoFs: 65 (by level: 8,21,65)\n",
      "[2020-07-16 23:11:45,677] - [INFO] - BPX-PCG iterations:   18\n",
      "[2020-07-16 23:11:45,678] - [INFO] - Total time:     310 ms\n",
      "[2020-07-16 23:11:45,679] - [INFO] - \n",
      "[2020-07-16 23:11:45,680] - [INFO] - +-----------------------------------------+\n",
      "[2020-07-16 23:11:45,680] - [INFO] - +    MULTIGRID (LEVELS =  4)              +\n",
      "[2020-07-16 23:11:45,681] - [INFO] - +-----------------------------------------+\n",
      "[2020-07-16 23:11:46,079] - [INFO] - Number of DoFs: 225 (by level: 8,21,65,225)\n",
      "[2020-07-16 23:11:46,105] - [INFO] - BPX-PCG iterations:   23\n",
      "[2020-07-16 23:11:46,108] - [INFO] - Total time:     428 ms\n",
      "[2020-07-16 23:11:46,109] - [INFO] - \n",
      "[2020-07-16 23:11:46,109] - [INFO] - +-----------------------------------------+\n",
      "[2020-07-16 23:11:46,110] - [INFO] - +    MULTIGRID (LEVELS =  5)              +\n",
      "[2020-07-16 23:11:46,110] - [INFO] - +-----------------------------------------+\n",
      "[2020-07-16 23:11:46,561] - [INFO] - Number of DoFs: 833 (by level: 8,21,65,225,833)\n",
      "[2020-07-16 23:11:46,608] - [INFO] - BPX-PCG iterations:   26\n",
      "[2020-07-16 23:11:46,613] - [INFO] - Total time:     503 ms\n",
      "[2020-07-16 23:11:46,613] - [INFO] - \n",
      "[2020-07-16 23:11:46,614] - [INFO] - +-----------------------------------------+\n",
      "[2020-07-16 23:11:46,614] - [INFO] - +    MULTIGRID (LEVELS =  6)              +\n",
      "[2020-07-16 23:11:46,614] - [INFO] - +-----------------------------------------+\n",
      "[2020-07-16 23:11:47,643] - [INFO] - Number of DoFs: 3201 (by level: 8,21,65,225,833,3201)\n",
      "[2020-07-16 23:11:47,731] - [INFO] - BPX-PCG iterations:   27\n",
      "[2020-07-16 23:11:47,751] - [INFO] - Total time:     1 s 137 ms\n",
      "[2020-07-16 23:11:47,752] - [INFO] - \n",
      "[2020-07-16 23:11:47,752] - [INFO] - +-----------------------------------------+\n",
      "[2020-07-16 23:11:47,753] - [INFO] - +    MULTIGRID (LEVELS =  7)              +\n",
      "[2020-07-16 23:11:47,753] - [INFO] - +-----------------------------------------+\n",
      "[2020-07-16 23:11:50,192] - [INFO] - Number of DoFs: 12545 (by level: 8,21,65,225,833,3201,12545)\n",
      "[2020-07-16 23:11:50,456] - [INFO] - BPX-PCG iterations:   29\n",
      "[2020-07-16 23:11:50,514] - [INFO] - Total time:     2 s 761 ms\n",
      "[2020-07-16 23:11:50,515] - [INFO] - \n",
      "[2020-07-16 23:11:50,516] - [INFO] - +-----------------------------------------+\n",
      "[2020-07-16 23:11:50,516] - [INFO] - +    MULTIGRID (LEVELS =  8)              +\n",
      "[2020-07-16 23:11:50,517] - [INFO] - +-----------------------------------------+\n",
      "[2020-07-16 23:12:00,015] - [INFO] - Number of DoFs: 49665 (by level: 8,21,65,225,833,3201,12545,49665)\n",
      "[2020-07-16 23:12:00,890] - [INFO] - BPX-PCG iterations:   29\n",
      "[2020-07-16 23:12:01,104] - [INFO] - Total time:     10 s 589 ms\n",
      "[2020-07-16 23:12:01,105] - [INFO] - \n"
     ]
    }
   ],
   "source": [
    "runDemoBPX()"
   ]
  },
  {
   "cell_type": "markdown",
   "metadata": {},
   "source": [
    "## Results\n",
    "\n",
    "| Refinements | DoFs | Iterations | Computation time | Convergence rate |\n",
    "| :---: | ------ | :---: | --- | :---: |\n",
    "| 1 |     21 | ? | ? | ? |\n",
    "| 2 |     65 | ? | ? | ? |\n",
    "| 3 |    225 | ? | ? | ? |\n",
    "| 4 |    833 | ? | ? | ? |\n",
    "| 5 |   3201 | ? | ? | ? |\n",
    "| 6 |  12545 | ? | ? | ? |\n",
    "| 7 |  49665 | ? | ? | ? |\n",
    "| 8 | 197633 | ? | ? | ? |\n",
    "| 9 | 788481 | ? | ? | ? |"
   ]
  }
 ],
 "metadata": {
  "kernelspec": {
   "display_name": "Python 3",
   "language": "python",
   "name": "python3"
  },
  "language_info": {
   "codemirror_mode": {
    "name": "ipython",
    "version": 3
   },
   "file_extension": ".py",
   "mimetype": "text/x-python",
   "name": "python",
   "nbconvert_exporter": "python",
   "pygments_lexer": "ipython3",
   "version": "3.7.5"
  }
 },
 "nbformat": 4,
 "nbformat_minor": 4
}
