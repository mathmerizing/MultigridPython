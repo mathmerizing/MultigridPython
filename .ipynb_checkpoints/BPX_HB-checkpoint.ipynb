{
 "cells": [
  {
   "cell_type": "markdown",
   "metadata": {
    "slideshow": {
     "slide_type": "slide"
    }
   },
   "source": [
    "# Results of Multigrid for Reaction-Diffusion"
   ]
  },
  {
   "cell_type": "markdown",
   "metadata": {},
   "source": [
    "## Imports"
   ]
  },
  {
   "cell_type": "code",
   "execution_count": 1,
   "metadata": {
    "slideshow": {
     "slide_type": "slide"
    }
   },
   "outputs": [],
   "source": [
    "from main import inputParametersBPX, runDemoBPX, runDemoHB\n",
    "import logging\n",
    "logging.basicConfig(level=logging.INFO , format='[%(asctime)s] - [%(levelname)s] - %(message)s')"
   ]
  },
  {
   "cell_type": "markdown",
   "metadata": {},
   "source": [
    "## Set parameters"
   ]
  },
  {
   "cell_type": "code",
   "execution_count": 2,
   "metadata": {
    "slideshow": {
     "slide_type": "skip"
    }
   },
   "outputs": [
    {
     "name": "stdout",
     "output_type": "stream",
     "text": [
      "==================\n",
      "* DEFAULT VALUES *\n",
      "==================\n",
      "LEVELS              = 5\n",
      "SHOW_GRIDS          = False\n",
      "DEGREE              = 1\n",
      "MAX_ITER            = 100\n",
      "EPSILON             = 1e-08\n",
      "\n",
      "Would you like to change some values? (Y/N): n\n"
     ]
    }
   ],
   "source": [
    "inputParametersBPX()"
   ]
  },
  {
   "cell_type": "markdown",
   "metadata": {},
   "source": [
    "## Demo"
   ]
  },
  {
   "cell_type": "markdown",
   "metadata": {},
   "source": [
    "Now that the user has inserted the parameters of the multigrid algorithm,\n",
    "we start by solving the two-grid method, refine the grid, solve the three-grid method, etc."
   ]
  },
  {
   "cell_type": "code",
   "execution_count": 3,
   "metadata": {},
   "outputs": [
    {
     "name": "stderr",
     "output_type": "stream",
     "text": [
      "[2020-07-31 19:18:53,232] - [INFO] - +-----------------------------------------+\n",
      "[2020-07-31 19:18:53,233] - [INFO] - +    MULTIGRID (LEVELS =  2)              +\n",
      "[2020-07-31 19:18:53,233] - [INFO] - +-----------------------------------------+\n",
      "[2020-07-31 19:18:53,636] - [INFO] - Number of DoFs: 3201 (by level: 833,3201)\n",
      "[2020-07-31 19:18:58,682] - [INFO] - BPX-PCG iterations:   22\n",
      "[2020-07-31 19:18:58,699] - [INFO] - Total time:     5 s 468 ms\n",
      "[2020-07-31 19:18:58,700] - [INFO] - \n",
      "[2020-07-31 19:18:58,700] - [INFO] - +-----------------------------------------+\n",
      "[2020-07-31 19:18:58,701] - [INFO] - +    MULTIGRID (LEVELS =  3)              +\n",
      "[2020-07-31 19:18:58,701] - [INFO] - +-----------------------------------------+\n",
      "[2020-07-31 19:19:00,119] - [INFO] - Number of DoFs: 12545 (by level: 833,3201,12545)\n",
      "[2020-07-31 19:19:07,718] - [INFO] - BPX-PCG iterations:   32\n",
      "[2020-07-31 19:19:07,767] - [INFO] - Total time:     9 s 67 ms\n",
      "[2020-07-31 19:19:07,768] - [INFO] - \n",
      "[2020-07-31 19:19:07,768] - [INFO] - +-----------------------------------------+\n",
      "[2020-07-31 19:19:07,769] - [INFO] - +    MULTIGRID (LEVELS =  4)              +\n",
      "[2020-07-31 19:19:07,769] - [INFO] - +-----------------------------------------+\n",
      "[2020-07-31 19:19:13,390] - [INFO] - Number of DoFs: 49665 (by level: 833,3201,12545,49665)\n",
      "[2020-07-31 19:19:23,698] - [INFO] - BPX-PCG iterations:   38\n",
      "[2020-07-31 19:19:23,888] - [INFO] - Total time:     16 s 119 ms\n",
      "[2020-07-31 19:19:23,889] - [INFO] - \n",
      "[2020-07-31 19:19:23,889] - [INFO] - +-----------------------------------------+\n",
      "[2020-07-31 19:19:23,889] - [INFO] - +    MULTIGRID (LEVELS =  5)              +\n",
      "[2020-07-31 19:19:23,890] - [INFO] - +-----------------------------------------+\n",
      "[2020-07-31 19:19:45,999] - [INFO] - Number of DoFs: 197633 (by level: 833,3201,12545,49665,197633)\n",
      "[2020-07-31 19:20:02,911] - [INFO] - BPX-PCG iterations:   42\n",
      "[2020-07-31 19:20:03,713] - [INFO] - Total time:     39 s 823 ms\n",
      "[2020-07-31 19:20:03,713] - [INFO] - \n"
     ]
    }
   ],
   "source": [
    "runDemoBPX(initialRefinements = 4)"
   ]
  },
  {
   "cell_type": "code",
   "execution_count": 4,
   "metadata": {},
   "outputs": [
    {
     "name": "stderr",
     "output_type": "stream",
     "text": [
      "[2020-07-31 19:20:04,370] - [INFO] - +-----------------------------------------+\n",
      "[2020-07-31 19:20:04,370] - [INFO] - +    MULTIGRID (LEVELS =  2)              +\n",
      "[2020-07-31 19:20:04,371] - [INFO] - +-----------------------------------------+\n",
      "[2020-07-31 19:20:04,737] - [INFO] - Number of DoFs: 3201 (by level: 833,3201)\n",
      "[2020-07-31 19:20:10,473] - [INFO] - HB-PCG iterations:   27\n",
      "[2020-07-31 19:20:10,487] - [INFO] - Total time:     6 s 118 ms\n",
      "[2020-07-31 19:20:10,488] - [INFO] - \n",
      "[2020-07-31 19:20:10,488] - [INFO] - +-----------------------------------------+\n",
      "[2020-07-31 19:20:10,488] - [INFO] - +    MULTIGRID (LEVELS =  3)              +\n",
      "[2020-07-31 19:20:10,489] - [INFO] - +-----------------------------------------+\n",
      "[2020-07-31 19:20:11,712] - [INFO] - Number of DoFs: 12545 (by level: 833,3201,12545)\n",
      "[2020-07-31 19:20:22,505] - [INFO] - HB-PCG iterations:   47\n",
      "[2020-07-31 19:20:22,554] - [INFO] - Total time:     12 s 65 ms\n",
      "[2020-07-31 19:20:22,554] - [INFO] - \n",
      "[2020-07-31 19:20:22,555] - [INFO] - +-----------------------------------------+\n",
      "[2020-07-31 19:20:22,555] - [INFO] - +    MULTIGRID (LEVELS =  4)              +\n",
      "[2020-07-31 19:20:22,556] - [INFO] - +-----------------------------------------+\n",
      "[2020-07-31 19:20:27,638] - [INFO] - Number of DoFs: 49665 (by level: 833,3201,12545,49665)\n",
      "[2020-07-31 19:20:49,086] - [INFO] - HB-PCG iterations:   66\n",
      "[2020-07-31 19:20:49,279] - [INFO] - Total time:     26 s 724 ms\n",
      "[2020-07-31 19:20:49,279] - [INFO] - \n",
      "[2020-07-31 19:20:49,280] - [INFO] - +-----------------------------------------+\n",
      "[2020-07-31 19:20:49,280] - [INFO] - +    MULTIGRID (LEVELS =  5)              +\n",
      "[2020-07-31 19:20:49,281] - [INFO] - +-----------------------------------------+\n",
      "[2020-07-31 19:21:12,432] - [INFO] - Number of DoFs: 197633 (by level: 833,3201,12545,49665,197633)\n",
      "[2020-07-31 19:22:14,928] - [INFO] - HB-PCG iterations:   86\n",
      "[2020-07-31 19:22:15,725] - [INFO] - Total time:     1 min 26 s 446 ms\n",
      "[2020-07-31 19:22:15,726] - [INFO] - \n"
     ]
    }
   ],
   "source": [
    "runDemoHB(initialRefinements = 4)"
   ]
  }
 ],
 "metadata": {
  "kernelspec": {
   "display_name": "Python 3",
   "language": "python",
   "name": "python3"
  },
  "language_info": {
   "codemirror_mode": {
    "name": "ipython",
    "version": 3
   },
   "file_extension": ".py",
   "mimetype": "text/x-python",
   "name": "python",
   "nbconvert_exporter": "python",
   "pygments_lexer": "ipython3",
   "version": "3.8.2"
  }
 },
 "nbformat": 4,
 "nbformat_minor": 4
}
