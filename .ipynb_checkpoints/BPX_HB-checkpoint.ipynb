{
 "cells": [
  {
   "cell_type": "markdown",
   "metadata": {
    "slideshow": {
     "slide_type": "slide"
    }
   },
   "source": [
    "# Results of Multigrid for Reaction-Diffusion"
   ]
  },
  {
   "cell_type": "markdown",
   "metadata": {},
   "source": [
    "## Imports"
   ]
  },
  {
   "cell_type": "code",
   "execution_count": 1,
   "metadata": {
    "slideshow": {
     "slide_type": "slide"
    }
   },
   "outputs": [
    {
     "name": "stderr",
     "output_type": "stream",
     "text": [
      "[2020-07-21 21:11:23,650] - [DEBUG] - Loaded backend module://ipykernel.pylab.backend_inline version unknown.\n"
     ]
    }
   ],
   "source": [
    "from main import inputParametersBPX, runDemoBPX, runDemoHB\n",
    "import logging\n",
    "logging.basicConfig(level=logging.DEBUG , format='[%(asctime)s] - [%(levelname)s] - %(message)s')"
   ]
  },
  {
   "cell_type": "markdown",
   "metadata": {},
   "source": [
    "## Set parameters"
   ]
  },
  {
   "cell_type": "code",
   "execution_count": 2,
   "metadata": {
    "slideshow": {
     "slide_type": "skip"
    }
   },
   "outputs": [
    {
     "name": "stdout",
     "output_type": "stream",
     "text": [
      "==================\n",
      "* DEFAULT VALUES *\n",
      "==================\n",
      "LEVELS              = 5\n",
      "SHOW_GRIDS          = False\n",
      "DEGREE              = 1\n",
      "MAX_ITER            = 100\n",
      "EPSILON             = 1e-08\n",
      "\n",
      "Would you like to change some values? (Y/N): n\n"
     ]
    }
   ],
   "source": [
    "inputParametersBPX()"
   ]
  },
  {
   "cell_type": "markdown",
   "metadata": {},
   "source": [
    "## Demo"
   ]
  },
  {
   "cell_type": "markdown",
   "metadata": {},
   "source": [
    "Now that the user has inserted the parameters of the multigrid algorithm,\n",
    "we start by solving the two-grid method, refine the grid, solve the three-grid method, etc."
   ]
  },
  {
   "cell_type": "code",
   "execution_count": 3,
   "metadata": {},
   "outputs": [],
   "source": [
    "#runDemoBPX()"
   ]
  },
  {
   "cell_type": "code",
   "execution_count": null,
   "metadata": {},
   "outputs": [
    {
     "name": "stderr",
     "output_type": "stream",
     "text": [
      "[2020-07-21 21:11:26,957] - [DEBUG] - __init__ took 0 seconds 8 milliseconds.\n",
      "[2020-07-21 21:11:26,961] - [INFO] - +-----------------------------------------+\n",
      "[2020-07-21 21:11:26,962] - [INFO] - +    MULTIGRID (LEVELS =  2)              +\n",
      "[2020-07-21 21:11:26,963] - [INFO] - +-----------------------------------------+\n",
      "[2020-07-21 21:11:27,045] - [INFO] - Number of DoFs: 21 (by level: 8,21)\n",
      "[2020-07-21 21:11:27,062] - [DEBUG] - __call__ took 0 seconds 7 milliseconds.\n",
      "[2020-07-21 21:11:27,066] - [DEBUG] - __call__ took 0 seconds 2 milliseconds.\n",
      "[2020-07-21 21:11:27,068] - [DEBUG] - 0.th residual: 0.3009811157835603\n",
      "[2020-07-21 21:11:27,081] - [DEBUG] - __call__ took 0 seconds 9 milliseconds.\n",
      "[2020-07-21 21:11:27,089] - [DEBUG] - 1.th residual: 0.098656759315928\n",
      "[2020-07-21 21:11:27,098] - [DEBUG] - __call__ took 0 seconds 5 milliseconds.\n",
      "[2020-07-21 21:11:27,102] - [DEBUG] - 2.th residual: 0.050276330107872004\n",
      "[2020-07-21 21:11:27,119] - [DEBUG] - __call__ took 0 seconds 9 milliseconds.\n",
      "[2020-07-21 21:11:27,122] - [DEBUG] - 3.th residual: 0.012707171017695267\n",
      "[2020-07-21 21:11:27,134] - [DEBUG] - __call__ took 0 seconds 5 milliseconds.\n",
      "[2020-07-21 21:11:27,142] - [DEBUG] - 4.th residual: 0.005708546012206299\n",
      "[2020-07-21 21:11:27,161] - [DEBUG] - __call__ took 0 seconds 7 milliseconds.\n",
      "[2020-07-21 21:11:27,165] - [DEBUG] - 5.th residual: 3.458477061098028e-17\n",
      "[2020-07-21 21:11:27,171] - [INFO] - HB-PCG iterations:   6\n",
      "[2020-07-21 21:11:27,184] - [INFO] - Total time:     222 ms\n",
      "[2020-07-21 21:11:27,191] - [INFO] - \n",
      "[2020-07-21 21:11:27,193] - [INFO] - +-----------------------------------------+\n",
      "[2020-07-21 21:11:27,200] - [INFO] - +    MULTIGRID (LEVELS =  3)              +\n",
      "[2020-07-21 21:11:27,206] - [INFO] - +-----------------------------------------+\n",
      "[2020-07-21 21:11:27,363] - [INFO] - Number of DoFs: 65 (by level: 8,21,65)\n",
      "[2020-07-21 21:11:27,371] - [DEBUG] - __call__ took 0 seconds 5 milliseconds.\n",
      "[2020-07-21 21:11:27,379] - [DEBUG] - __call__ took 0 seconds 3 milliseconds.\n",
      "[2020-07-21 21:11:27,383] - [DEBUG] - 0.th residual: 0.3131965172029056\n",
      "[2020-07-21 21:11:27,388] - [DEBUG] - __call__ took 0 seconds 2 milliseconds.\n",
      "[2020-07-21 21:11:27,390] - [DEBUG] - 1.th residual: 0.19321546234223325\n",
      "[2020-07-21 21:11:27,413] - [DEBUG] - __call__ took 0 seconds 5 milliseconds.\n",
      "[2020-07-21 21:11:27,417] - [DEBUG] - 2.th residual: 0.10067387294784257\n",
      "[2020-07-21 21:11:27,426] - [DEBUG] - __call__ took 0 seconds 7 milliseconds.\n",
      "[2020-07-21 21:11:27,437] - [DEBUG] - 3.th residual: 0.06248078649077092\n",
      "[2020-07-21 21:11:27,450] - [DEBUG] - __call__ took 0 seconds 3 milliseconds.\n",
      "[2020-07-21 21:11:27,452] - [DEBUG] - 4.th residual: 0.030976523034502653\n",
      "[2020-07-21 21:11:27,457] - [DEBUG] - __call__ took 0 seconds 4 milliseconds.\n",
      "[2020-07-21 21:11:27,469] - [DEBUG] - 5.th residual: 0.016201388510525144\n",
      "[2020-07-21 21:11:27,481] - [DEBUG] - __call__ took 0 seconds 6 milliseconds.\n",
      "[2020-07-21 21:11:27,488] - [DEBUG] - 6.th residual: 0.008421798551088482\n",
      "[2020-07-21 21:11:27,499] - [DEBUG] - __call__ took 0 seconds 7 milliseconds.\n",
      "[2020-07-21 21:11:27,501] - [DEBUG] - 7.th residual: 0.004488741175253696\n",
      "[2020-07-21 21:11:27,518] - [DEBUG] - __call__ took 0 seconds 8 milliseconds.\n",
      "[2020-07-21 21:11:27,519] - [DEBUG] - 8.th residual: 0.002585150950795001\n",
      "[2020-07-21 21:11:27,523] - [DEBUG] - __call__ took 0 seconds 3 milliseconds.\n",
      "[2020-07-21 21:11:27,526] - [DEBUG] - 9.th residual: 0.0009054316654930305\n",
      "[2020-07-21 21:11:27,537] - [DEBUG] - __call__ took 0 seconds 6 milliseconds.\n",
      "[2020-07-21 21:11:27,539] - [DEBUG] - 10.th residual: 0.0004515780558632729\n",
      "[2020-07-21 21:11:27,545] - [DEBUG] - __call__ took 0 seconds 3 milliseconds.\n",
      "[2020-07-21 21:11:27,550] - [DEBUG] - 11.th residual: 0.00026232707439093804\n",
      "[2020-07-21 21:11:27,555] - [DEBUG] - __call__ took 0 seconds 1 milliseconds.\n",
      "[2020-07-21 21:11:27,560] - [DEBUG] - 12.th residual: 0.00016788722218559262\n",
      "[2020-07-21 21:11:27,587] - [DEBUG] - __call__ took 0 seconds 24 milliseconds.\n",
      "[2020-07-21 21:11:27,588] - [DEBUG] - 13.th residual: 9.123247264478232e-05\n",
      "[2020-07-21 21:11:27,597] - [DEBUG] - __call__ took 0 seconds 6 milliseconds.\n",
      "[2020-07-21 21:11:27,599] - [DEBUG] - 14.th residual: 2.973959119210655e-05\n",
      "[2020-07-21 21:11:27,606] - [DEBUG] - __call__ took 0 seconds 3 milliseconds.\n",
      "[2020-07-21 21:11:27,609] - [DEBUG] - 15.th residual: 1.4325264955281327e-05\n",
      "[2020-07-21 21:11:27,621] - [DEBUG] - __call__ took 0 seconds 9 milliseconds.\n",
      "[2020-07-21 21:11:27,631] - [DEBUG] - 16.th residual: 1.8109804609071902e-06\n",
      "[2020-07-21 21:11:27,638] - [DEBUG] - __call__ took 0 seconds 5 milliseconds.\n",
      "[2020-07-21 21:11:27,639] - [DEBUG] - 17.th residual: 7.140313712538287e-07\n",
      "[2020-07-21 21:11:27,651] - [DEBUG] - __call__ took 0 seconds 10 milliseconds.\n",
      "[2020-07-21 21:11:27,657] - [DEBUG] - 18.th residual: 2.50905703982903e-07\n",
      "[2020-07-21 21:11:27,664] - [DEBUG] - __call__ took 0 seconds 6 milliseconds.\n",
      "[2020-07-21 21:11:27,666] - [DEBUG] - 19.th residual: 4.469243627995188e-08\n",
      "[2020-07-21 21:11:27,673] - [DEBUG] - __call__ took 0 seconds 4 milliseconds.\n",
      "[2020-07-21 21:11:27,679] - [DEBUG] - 20.th residual: 2.019340127145924e-08\n",
      "[2020-07-21 21:11:27,693] - [DEBUG] - __call__ took 0 seconds 5 milliseconds.\n",
      "[2020-07-21 21:11:27,694] - [DEBUG] - 21.th residual: 2.79278869389277e-09\n",
      "[2020-07-21 21:11:27,696] - [INFO] - HB-PCG iterations:   22\n",
      "[2020-07-21 21:11:27,704] - [INFO] - Total time:     511 ms\n",
      "[2020-07-21 21:11:27,707] - [INFO] - \n",
      "[2020-07-21 21:11:27,708] - [INFO] - +-----------------------------------------+\n",
      "[2020-07-21 21:11:27,709] - [INFO] - +    MULTIGRID (LEVELS =  4)              +\n",
      "[2020-07-21 21:11:27,711] - [INFO] - +-----------------------------------------+\n",
      "[2020-07-21 21:11:28,553] - [INFO] - Number of DoFs: 225 (by level: 8,21,65,225)\n",
      "[2020-07-21 21:11:28,588] - [DEBUG] - __call__ took 0 seconds 23 milliseconds.\n",
      "[2020-07-21 21:11:28,600] - [DEBUG] - __call__ took 0 seconds 4 milliseconds.\n",
      "[2020-07-21 21:11:28,603] - [DEBUG] - 0.th residual: 0.25870683053494814\n",
      "[2020-07-21 21:11:28,630] - [DEBUG] - __call__ took 0 seconds 18 milliseconds.\n",
      "[2020-07-21 21:11:28,639] - [DEBUG] - 1.th residual: 0.190342300775754\n",
      "[2020-07-21 21:11:28,657] - [DEBUG] - __call__ took 0 seconds 11 milliseconds.\n",
      "[2020-07-21 21:11:28,672] - [DEBUG] - 2.th residual: 0.11727680753486192\n",
      "[2020-07-21 21:11:28,687] - [DEBUG] - __call__ took 0 seconds 4 milliseconds.\n",
      "[2020-07-21 21:11:28,694] - [DEBUG] - 3.th residual: 0.08984510814394157\n",
      "[2020-07-21 21:11:28,701] - [DEBUG] - __call__ took 0 seconds 6 milliseconds.\n",
      "[2020-07-21 21:11:28,703] - [DEBUG] - 4.th residual: 0.06307481984204256\n",
      "[2020-07-21 21:11:28,713] - [DEBUG] - __call__ took 0 seconds 9 milliseconds.\n",
      "[2020-07-21 21:11:28,730] - [DEBUG] - 5.th residual: 0.03783388093724377\n",
      "[2020-07-21 21:11:28,738] - [DEBUG] - __call__ took 0 seconds 6 milliseconds.\n",
      "[2020-07-21 21:11:28,740] - [DEBUG] - 6.th residual: 0.024241844654319104\n",
      "[2020-07-21 21:11:28,751] - [DEBUG] - __call__ took 0 seconds 10 milliseconds.\n",
      "[2020-07-21 21:11:28,758] - [DEBUG] - 7.th residual: 0.015122284359112278\n",
      "[2020-07-21 21:11:28,763] - [DEBUG] - __call__ took 0 seconds 3 milliseconds.\n",
      "[2020-07-21 21:11:28,765] - [DEBUG] - 8.th residual: 0.00843619894281918\n",
      "[2020-07-21 21:11:28,782] - [DEBUG] - __call__ took 0 seconds 12 milliseconds.\n",
      "[2020-07-21 21:11:28,785] - [DEBUG] - 9.th residual: 0.004900287859971839\n",
      "[2020-07-21 21:11:28,791] - [DEBUG] - __call__ took 0 seconds 4 milliseconds.\n",
      "[2020-07-21 21:11:28,797] - [DEBUG] - 10.th residual: 0.003159030721243183\n",
      "[2020-07-21 21:11:28,808] - [DEBUG] - __call__ took 0 seconds 9 milliseconds.\n",
      "[2020-07-21 21:11:28,813] - [DEBUG] - 11.th residual: 0.0019822632834739584\n",
      "[2020-07-21 21:11:28,821] - [DEBUG] - __call__ took 0 seconds 6 milliseconds.\n",
      "[2020-07-21 21:11:28,822] - [DEBUG] - 12.th residual: 0.0012794363383711272\n",
      "[2020-07-21 21:11:28,833] - [DEBUG] - __call__ took 0 seconds 10 milliseconds.\n",
      "[2020-07-21 21:11:28,844] - [DEBUG] - 13.th residual: 0.0008610801519380163\n",
      "[2020-07-21 21:11:28,855] - [DEBUG] - __call__ took 0 seconds 7 milliseconds.\n",
      "[2020-07-21 21:11:28,867] - [DEBUG] - 14.th residual: 0.000567746112373387\n"
     ]
    },
    {
     "name": "stderr",
     "output_type": "stream",
     "text": [
      "[2020-07-21 21:11:28,879] - [DEBUG] - __call__ took 0 seconds 4 milliseconds.\n",
      "[2020-07-21 21:11:28,882] - [DEBUG] - 15.th residual: 0.00033458046464127783\n",
      "[2020-07-21 21:11:28,888] - [DEBUG] - __call__ took 0 seconds 4 milliseconds.\n",
      "[2020-07-21 21:11:28,889] - [DEBUG] - 16.th residual: 0.00020114147864105271\n",
      "[2020-07-21 21:11:28,900] - [DEBUG] - __call__ took 0 seconds 8 milliseconds.\n",
      "[2020-07-21 21:11:28,907] - [DEBUG] - 17.th residual: 0.0001234777705454046\n",
      "[2020-07-21 21:11:28,921] - [DEBUG] - __call__ took 0 seconds 4 milliseconds.\n",
      "[2020-07-21 21:11:28,931] - [DEBUG] - 18.th residual: 7.250347571519825e-05\n",
      "[2020-07-21 21:11:28,956] - [DEBUG] - __call__ took 0 seconds 6 milliseconds.\n",
      "[2020-07-21 21:11:28,961] - [DEBUG] - 19.th residual: 5.095031401928439e-05\n",
      "[2020-07-21 21:11:28,974] - [DEBUG] - __call__ took 0 seconds 9 milliseconds.\n",
      "[2020-07-21 21:11:28,982] - [DEBUG] - 20.th residual: 3.50807382893038e-05\n",
      "[2020-07-21 21:11:28,991] - [DEBUG] - __call__ took 0 seconds 4 milliseconds.\n",
      "[2020-07-21 21:11:28,992] - [DEBUG] - 21.th residual: 1.919982021554497e-05\n",
      "[2020-07-21 21:11:29,006] - [DEBUG] - __call__ took 0 seconds 10 milliseconds.\n",
      "[2020-07-21 21:11:29,015] - [DEBUG] - 22.th residual: 9.31921653044414e-06\n",
      "[2020-07-21 21:11:29,022] - [DEBUG] - __call__ took 0 seconds 4 milliseconds.\n",
      "[2020-07-21 21:11:29,026] - [DEBUG] - 23.th residual: 4.681491163966098e-06\n",
      "[2020-07-21 21:11:29,055] - [DEBUG] - __call__ took 0 seconds 8 milliseconds.\n",
      "[2020-07-21 21:11:29,058] - [DEBUG] - 24.th residual: 2.73998419241665e-06\n",
      "[2020-07-21 21:11:29,084] - [DEBUG] - __call__ took 0 seconds 8 milliseconds.\n",
      "[2020-07-21 21:11:29,086] - [DEBUG] - 25.th residual: 1.4712594220759136e-06\n",
      "[2020-07-21 21:11:29,094] - [DEBUG] - __call__ took 0 seconds 5 milliseconds.\n",
      "[2020-07-21 21:11:29,105] - [DEBUG] - 26.th residual: 6.579410332026336e-07\n",
      "[2020-07-21 21:11:29,126] - [DEBUG] - __call__ took 0 seconds 15 milliseconds.\n",
      "[2020-07-21 21:11:29,129] - [DEBUG] - 27.th residual: 3.4173690472138697e-07\n",
      "[2020-07-21 21:11:29,139] - [DEBUG] - __call__ took 0 seconds 8 milliseconds.\n",
      "[2020-07-21 21:11:29,145] - [DEBUG] - 28.th residual: 1.5512750774694425e-07\n",
      "[2020-07-21 21:11:29,165] - [DEBUG] - __call__ took 0 seconds 9 milliseconds.\n",
      "[2020-07-21 21:11:29,182] - [DEBUG] - 29.th residual: 6.186977386255945e-08\n",
      "[2020-07-21 21:11:29,223] - [DEBUG] - __call__ took 0 seconds 31 milliseconds.\n",
      "[2020-07-21 21:11:29,234] - [DEBUG] - 30.th residual: 3.452652976472053e-08\n",
      "[2020-07-21 21:11:29,249] - [DEBUG] - __call__ took 0 seconds 4 milliseconds.\n",
      "[2020-07-21 21:11:29,252] - [DEBUG] - 31.th residual: 2.3344020514545642e-08\n",
      "[2020-07-21 21:11:29,268] - [DEBUG] - __call__ took 0 seconds 14 milliseconds.\n",
      "[2020-07-21 21:11:29,273] - [DEBUG] - 32.th residual: 1.0688305429481634e-08\n",
      "[2020-07-21 21:11:29,288] - [DEBUG] - __call__ took 0 seconds 13 milliseconds.\n",
      "[2020-07-21 21:11:29,291] - [DEBUG] - 33.th residual: 4.875461491845819e-09\n",
      "[2020-07-21 21:11:29,296] - [INFO] - HB-PCG iterations:   34\n",
      "[2020-07-21 21:11:29,308] - [INFO] - Total time:     1 s 599 ms\n",
      "[2020-07-21 21:11:29,311] - [INFO] - \n",
      "[2020-07-21 21:11:29,318] - [INFO] - +-----------------------------------------+\n",
      "[2020-07-21 21:11:29,325] - [INFO] - +    MULTIGRID (LEVELS =  5)              +\n",
      "[2020-07-21 21:11:29,333] - [INFO] - +-----------------------------------------+\n"
     ]
    }
   ],
   "source": [
    "runDemoHB()"
   ]
  },
  {
   "cell_type": "markdown",
   "metadata": {},
   "source": [
    "## Results\n",
    "\n",
    "| Refinements | DoFs | Iterations | Computation time | Convergence rate |\n",
    "| :---: | ------ | :---: | --- | :---: |\n",
    "| 1 |     21 | ? | ? | ? |\n",
    "| 2 |     65 | ? | ? | ? |\n",
    "| 3 |    225 | ? | ? | ? |\n",
    "| 4 |    833 | ? | ? | ? |\n",
    "| 5 |   3201 | ? | ? | ? |\n",
    "| 6 |  12545 | ? | ? | ? |\n",
    "| 7 |  49665 | ? | ? | ? |\n",
    "| 8 | 197633 | ? | ? | ? |\n",
    "| 9 | 788481 | ? | ? | ? |"
   ]
  },
  {
   "cell_type": "code",
   "execution_count": null,
   "metadata": {},
   "outputs": [],
   "source": []
  }
 ],
 "metadata": {
  "kernelspec": {
   "display_name": "Python 3",
   "language": "python",
   "name": "python3"
  },
  "language_info": {
   "codemirror_mode": {
    "name": "ipython",
    "version": 3
   },
   "file_extension": ".py",
   "mimetype": "text/x-python",
   "name": "python",
   "nbconvert_exporter": "python",
   "pygments_lexer": "ipython3",
   "version": "3.7.1"
  }
 },
 "nbformat": 4,
 "nbformat_minor": 4
}
