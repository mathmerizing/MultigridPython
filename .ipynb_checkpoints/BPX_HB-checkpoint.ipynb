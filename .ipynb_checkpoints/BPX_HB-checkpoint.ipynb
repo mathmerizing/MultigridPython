{
 "cells": [
  {
   "cell_type": "markdown",
   "metadata": {
    "slideshow": {
     "slide_type": "slide"
    }
   },
   "source": [
    "# Results of Multigrid for Reaction-Diffusion"
   ]
  },
  {
   "cell_type": "markdown",
   "metadata": {},
   "source": [
    "## Imports"
   ]
  },
  {
   "cell_type": "code",
   "execution_count": 1,
   "metadata": {
    "slideshow": {
     "slide_type": "slide"
    }
   },
   "outputs": [],
   "source": [
    "from main import inputParametersBPX, runDemoBPX, runDemoHB\n",
    "import logging\n",
    "logging.basicConfig(level=logging.DEBUG , format='[%(asctime)s] - [%(levelname)s] - %(message)s')"
   ]
  },
  {
   "cell_type": "markdown",
   "metadata": {},
   "source": [
    "## Set parameters"
   ]
  },
  {
   "cell_type": "code",
   "execution_count": 2,
   "metadata": {
    "slideshow": {
     "slide_type": "skip"
    }
   },
   "outputs": [
    {
     "name": "stdout",
     "output_type": "stream",
     "text": [
      "==================\n",
      "* DEFAULT VALUES *\n",
      "==================\n",
      "LEVELS              = 5\n",
      "SHOW_GRIDS          = False\n",
      "DEGREE              = 1\n",
      "MAX_ITER            = 100\n",
      "EPSILON             = 1e-08\n",
      "\n",
      "Would you like to change some values? (Y/N): n\n"
     ]
    }
   ],
   "source": [
    "inputParametersBPX()"
   ]
  },
  {
   "cell_type": "markdown",
   "metadata": {},
   "source": [
    "## Demo"
   ]
  },
  {
   "cell_type": "markdown",
   "metadata": {},
   "source": [
    "Now that the user has inserted the parameters of the multigrid algorithm,\n",
    "we start by solving the two-grid method, refine the grid, solve the three-grid method, etc."
   ]
  },
  {
   "cell_type": "code",
   "execution_count": 3,
   "metadata": {},
   "outputs": [],
   "source": [
    "#runDemoBPX()"
   ]
  },
  {
   "cell_type": "code",
   "execution_count": null,
   "metadata": {},
   "outputs": [
    {
     "name": "stderr",
     "output_type": "stream",
     "text": [
      "[2020-07-21 20:52:22,983] - [DEBUG] - __init__ took 0 seconds 192 milliseconds.\n",
      "[2020-07-21 20:52:22,984] - [INFO] - +-----------------------------------------+\n",
      "[2020-07-21 20:52:22,984] - [INFO] - +    MULTIGRID (LEVELS =  2)              +\n",
      "[2020-07-21 20:52:22,985] - [INFO] - +-----------------------------------------+\n",
      "[2020-07-21 20:52:23,160] - [INFO] - Number of DoFs: 21 (by level: 8,21)\n"
     ]
    },
    {
     "name": "stdout",
     "output_type": "stream",
     "text": [
      "[ 0.         -0.33333337 -0.16666669  0.33333337  0.          0.\n",
      "  0.16666669  0.        ]\n",
      "[ 0.         -0.33333337 -0.16666669  0.33333337  0.         -0.18750002\n",
      "  0.16666669  0.18750002]\n",
      "[ 0.         -0.33333337 -0.16666669  0.33333337  0.          0.\n",
      "  0.16666669  0.          0.         -0.12500001  0.         -0.12500001\n",
      "  0.12500001 -0.12500001  0.          0.12500001  0.          0.12500001\n",
      "  0.          0.25000003 -0.25000003]\n",
      "[ 0.         -0.08333334 -0.04166667  0.08333334  0.          0.\n",
      "  0.04166667  0.          0.         -0.12500001  0.         -0.12500001\n",
      "  0.12500001 -0.12500001  0.          0.12500001  0.          0.12500001\n",
      "  0.          0.25000003 -0.25000003]\n"
     ]
    }
   ],
   "source": [
    "runDemoHB()"
   ]
  },
  {
   "cell_type": "markdown",
   "metadata": {},
   "source": [
    "## Results\n",
    "\n",
    "| Refinements | DoFs | Iterations | Computation time | Convergence rate |\n",
    "| :---: | ------ | :---: | --- | :---: |\n",
    "| 1 |     21 | ? | ? | ? |\n",
    "| 2 |     65 | ? | ? | ? |\n",
    "| 3 |    225 | ? | ? | ? |\n",
    "| 4 |    833 | ? | ? | ? |\n",
    "| 5 |   3201 | ? | ? | ? |\n",
    "| 6 |  12545 | ? | ? | ? |\n",
    "| 7 |  49665 | ? | ? | ? |\n",
    "| 8 | 197633 | ? | ? | ? |\n",
    "| 9 | 788481 | ? | ? | ? |"
   ]
  },
  {
   "cell_type": "code",
   "execution_count": null,
   "metadata": {},
   "outputs": [],
   "source": []
  }
 ],
 "metadata": {
  "kernelspec": {
   "display_name": "Python 3",
   "language": "python",
   "name": "python3"
  },
  "language_info": {
   "codemirror_mode": {
    "name": "ipython",
    "version": 3
   },
   "file_extension": ".py",
   "mimetype": "text/x-python",
   "name": "python",
   "nbconvert_exporter": "python",
   "pygments_lexer": "ipython3",
   "version": "3.7.5"
  }
 },
 "nbformat": 4,
 "nbformat_minor": 4
}
