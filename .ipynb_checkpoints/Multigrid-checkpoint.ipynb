{
 "cells": [
  {
   "cell_type": "markdown",
   "metadata": {
    "slideshow": {
     "slide_type": "slide"
    }
   },
   "source": [
    "# Results of Multigrid for Convection Diffusion"
   ]
  },
  {
   "cell_type": "markdown",
   "metadata": {},
   "source": [
    "## Imports"
   ]
  },
  {
   "cell_type": "code",
   "execution_count": 1,
   "metadata": {
    "slideshow": {
     "slide_type": "slide"
    }
   },
   "outputs": [],
   "source": [
    "from main import inputParameters, runDemo\n",
    "import logging\n",
    "logging.basicConfig(level=logging.INFO , format='[%(asctime)s] - [%(levelname)s] - %(message)s')"
   ]
  },
  {
   "cell_type": "markdown",
   "metadata": {},
   "source": [
    "## Set parameters"
   ]
  },
  {
   "cell_type": "code",
   "execution_count": 2,
   "metadata": {
    "slideshow": {
     "slide_type": "skip"
    }
   },
   "outputs": [
    {
     "name": "stdout",
     "output_type": "stream",
     "text": [
      "==================\n",
      "* DEFAULT VALUES *\n",
      "==================\n",
      "LEVELS              = 5\n",
      "SHOW_GRIDS          = False\n",
      "DEGREE              = 1\n",
      "CYCLE               = W\n",
      "MAX_ITER            = 100\n",
      "SMOOTHING_STEPS     = 2\n",
      "SMOOTHER            = Jacobi\n",
      "OMEGA               = 0.8\n",
      "\n",
      "Would you like to change some values? (Y/N): y\n",
      "Number of MG levels (default: 5) = 10\n",
      "Plot grids (default: False) = \n",
      "Degree of FE (default: 1) = \n",
      "Multigrid cycle (default: W; supported: 'V','W') = \n",
      "Maximum number of MG iterations (default: 100) = \n",
      "Number of smoothing steps (default: 2) = \n",
      "Smoother type (default: Jacobi; supported: 'Jacobi','GaussSeidel') = \n",
      "Relaxation parameter omega (default: 0.8) = \n",
      "\n",
      "=================\n",
      "* CUSTOM VALUES *\n",
      "=================\n",
      "LEVELS              = 10\n",
      "SHOW_GRIDS          = False\n",
      "DEGREE              = 1\n",
      "CYCLE               = W\n",
      "MAX_ITER            = 100\n",
      "SMOOTHING_STEPS     = 2\n",
      "SMOOTHER            = Jacobi\n",
      "OMEGA               = 0.8\n",
      "\n"
     ]
    }
   ],
   "source": [
    "inputParameters()"
   ]
  },
  {
   "cell_type": "markdown",
   "metadata": {},
   "source": [
    "## Demo"
   ]
  },
  {
   "cell_type": "markdown",
   "metadata": {},
   "source": [
    "Now that the user has inserted the parameters of the multigrid algorithm,\n",
    "we start by solving the two-grid method, refine the grid, solve the three-grid method, etc."
   ]
  },
  {
   "cell_type": "code",
   "execution_count": 3,
   "metadata": {},
   "outputs": [
    {
     "name": "stderr",
     "output_type": "stream",
     "text": [
      "[2020-06-21 11:33:32,529] - [INFO] - +-----------------------------------------+\n",
      "[2020-06-21 11:33:32,530] - [INFO] - +    MULTIGRID (LEVELS =  2)              +\n",
      "[2020-06-21 11:33:32,530] - [INFO] - +-----------------------------------------+\n",
      "[2020-06-21 11:33:32,693] - [INFO] - Number of DoFs: 21 (by level: 8,21)\n",
      "[2020-06-21 11:33:32,735] - [INFO] - Defect:         5.43e-13\n",
      "[2020-06-21 11:33:32,736] - [INFO] - GMG iterations: 14\n",
      "[2020-06-21 11:33:32,736] - [INFO] - Multigrid time: 0.042 s\n",
      "[2020-06-21 11:33:32,739] - [INFO] - Total time:     211 ms\n",
      "[2020-06-21 11:33:32,740] - [INFO] - \n",
      "[2020-06-21 11:33:32,740] - [INFO] - +-----------------------------------------+\n",
      "[2020-06-21 11:33:32,741] - [INFO] - +    MULTIGRID (LEVELS =  3)              +\n",
      "[2020-06-21 11:33:32,742] - [INFO] - +-----------------------------------------+\n",
      "[2020-06-21 11:33:33,007] - [INFO] - Number of DoFs: 65 (by level: 8,21,65)\n",
      "[2020-06-21 11:33:33,097] - [INFO] - Defect:         4.54e-13\n",
      "[2020-06-21 11:33:33,097] - [INFO] - GMG iterations: 15\n",
      "[2020-06-21 11:33:33,098] - [INFO] - Multigrid time: 0.088 s\n",
      "[2020-06-21 11:33:33,099] - [INFO] - Total time:     359 ms\n",
      "[2020-06-21 11:33:33,100] - [INFO] - \n",
      "[2020-06-21 11:33:33,100] - [INFO] - +-----------------------------------------+\n",
      "[2020-06-21 11:33:33,101] - [INFO] - +    MULTIGRID (LEVELS =  4)              +\n",
      "[2020-06-21 11:33:33,101] - [INFO] - +-----------------------------------------+\n",
      "[2020-06-21 11:33:33,372] - [INFO] - Number of DoFs: 225 (by level: 8,21,65,225)\n",
      "[2020-06-21 11:33:33,552] - [INFO] - Defect:         8.66e-13\n",
      "[2020-06-21 11:33:33,552] - [INFO] - GMG iterations: 14\n",
      "[2020-06-21 11:33:33,553] - [INFO] - Multigrid time: 0.174 s\n",
      "[2020-06-21 11:33:33,555] - [INFO] - Total time:     455 ms\n",
      "[2020-06-21 11:33:33,556] - [INFO] - \n",
      "[2020-06-21 11:33:33,557] - [INFO] - +-----------------------------------------+\n",
      "[2020-06-21 11:33:33,557] - [INFO] - +    MULTIGRID (LEVELS =  5)              +\n",
      "[2020-06-21 11:33:33,558] - [INFO] - +-----------------------------------------+\n",
      "[2020-06-21 11:33:33,965] - [INFO] - Number of DoFs: 833 (by level: 8,21,65,225,833)\n",
      "[2020-06-21 11:33:34,328] - [INFO] - Defect:         6.6e-13\n",
      "[2020-06-21 11:33:34,329] - [INFO] - GMG iterations: 14\n",
      "[2020-06-21 11:33:34,330] - [INFO] - Multigrid time: 0.349 s\n",
      "[2020-06-21 11:33:34,335] - [INFO] - Total time:     778 ms\n",
      "[2020-06-21 11:33:34,336] - [INFO] - \n",
      "[2020-06-21 11:33:34,337] - [INFO] - +-----------------------------------------+\n",
      "[2020-06-21 11:33:34,338] - [INFO] - +    MULTIGRID (LEVELS =  6)              +\n",
      "[2020-06-21 11:33:34,338] - [INFO] - +-----------------------------------------+\n",
      "[2020-06-21 11:33:35,173] - [INFO] - Number of DoFs: 3201 (by level: 8,21,65,225,833,3201)\n",
      "[2020-06-21 11:33:35,889] - [INFO] - Defect:         6.57e-13\n",
      "[2020-06-21 11:33:35,890] - [INFO] - GMG iterations: 13\n",
      "[2020-06-21 11:33:35,891] - [INFO] - Multigrid time: 0.663 s\n",
      "[2020-06-21 11:33:35,911] - [INFO] - Total time:     1 s 574 ms\n",
      "[2020-06-21 11:33:35,912] - [INFO] - \n",
      "[2020-06-21 11:33:35,912] - [INFO] - +-----------------------------------------+\n",
      "[2020-06-21 11:33:35,914] - [INFO] - +    MULTIGRID (LEVELS =  7)              +\n",
      "[2020-06-21 11:33:35,915] - [INFO] - +-----------------------------------------+\n",
      "[2020-06-21 11:33:38,165] - [INFO] - Number of DoFs: 12545 (by level: 8,21,65,225,833,3201,12545)\n",
      "[2020-06-21 11:33:40,022] - [INFO] - Defect:         4.27e-13\n",
      "[2020-06-21 11:33:40,023] - [INFO] - GMG iterations: 13\n",
      "[2020-06-21 11:33:40,023] - [INFO] - Multigrid time: 1.657 s\n",
      "[2020-06-21 11:33:40,103] - [INFO] - Total time:     4 s 191 ms\n",
      "[2020-06-21 11:33:40,104] - [INFO] - \n",
      "[2020-06-21 11:33:40,104] - [INFO] - +-----------------------------------------+\n",
      "[2020-06-21 11:33:40,105] - [INFO] - +    MULTIGRID (LEVELS =  8)              +\n",
      "[2020-06-21 11:33:40,105] - [INFO] - +-----------------------------------------+\n",
      "[2020-06-21 11:33:48,994] - [INFO] - Number of DoFs: 49665 (by level: 8,21,65,225,833,3201,12545,49665)\n",
      "[2020-06-21 11:33:53,355] - [INFO] - Defect:         9.59e-13\n",
      "[2020-06-21 11:33:53,356] - [INFO] - GMG iterations: 12\n",
      "[2020-06-21 11:33:53,356] - [INFO] - Multigrid time: 3.547 s\n",
      "[2020-06-21 11:33:53,588] - [INFO] - Total time:     13 s 484 ms\n",
      "[2020-06-21 11:33:53,589] - [INFO] - \n",
      "[2020-06-21 11:33:53,590] - [INFO] - +-----------------------------------------+\n",
      "[2020-06-21 11:33:53,590] - [INFO] - +    MULTIGRID (LEVELS =  9)              +\n",
      "[2020-06-21 11:33:53,591] - [INFO] - +-----------------------------------------+\n",
      "[2020-06-21 11:34:28,103] - [INFO] - Number of DoFs: 197633 (by level: 8,21,65,225,833,3201,12545,49665,197633)\n",
      "[2020-06-21 11:34:40,215] - [INFO] - Defect:         4.53e-13\n",
      "[2020-06-21 11:34:40,216] - [INFO] - GMG iterations: 12\n",
      "[2020-06-21 11:34:40,230] - [INFO] - Multigrid time: 8.918 s\n",
      "[2020-06-21 11:34:41,114] - [INFO] - Total time:     47 s 525 ms\n",
      "[2020-06-21 11:34:41,115] - [INFO] - \n",
      "[2020-06-21 11:34:41,115] - [INFO] - +-----------------------------------------+\n",
      "[2020-06-21 11:34:41,116] - [INFO] - +    MULTIGRID (LEVELS = 10)              +\n",
      "[2020-06-21 11:34:41,117] - [INFO] - +-----------------------------------------+\n",
      "[2020-06-21 11:36:57,772] - [INFO] - Number of DoFs: 788481 (by level: 8,21,65,225,833,3201,12545,49665,197633,788481)\n",
      "[2020-06-21 11:37:33,892] - [INFO] - Defect:         8.76e-13\n",
      "[2020-06-21 11:37:33,893] - [INFO] - GMG iterations: 11\n",
      "[2020-06-21 11:37:33,893] - [INFO] - Multigrid time: 23.143 s\n",
      "[2020-06-21 11:37:37,333] - [INFO] - Total time:     2 min 56 s 217 ms\n",
      "[2020-06-21 11:37:37,334] - [INFO] - \n"
     ]
    }
   ],
   "source": [
    "runDemo()"
   ]
  },
  {
   "cell_type": "markdown",
   "metadata": {},
   "source": [
    "## Results\n",
    "\n",
    "| Refinements | DoFs | Iterations |\n",
    "| :---: | ------ | :---: |\n",
    "| 1 |     21 | 14 |\n",
    "| 2 |     65 | 14 |\n",
    "| 3 |    225 | 14 |\n",
    "| 4 |    833 | 14 |\n",
    "| 5 |   3201 | 13 |\n",
    "| 6 |  12545 | 13 |\n",
    "| 7 |  49665 | 12 |\n",
    "| 8 | 197633 | 12 |\n",
    "| 9 |788481 | 11 |"
   ]
  },
  {
   "cell_type": "markdown",
   "metadata": {},
   "source": [
    "What we would expect from the theory is that the number of mulitgrid iterations needed should be constant and thus independent of the number of levels. This property is approximately fulfilled in our simulation. Furthermore, the total computation time should depend linearly on the number of DoFs. This can't be observed here, since for us the assembly of the level matrices is a big bottleneck and consumes the most time. When taking a closer look at the time stamps of the logs and comparing that to where the program currently is in our code, one might notice that after the assembly the time for the actual process of solving the linear equation system approximately doubles when we add a new level. The number of DoFs quadruples with every refinement. Thus the time of the multigrid solver linearly depends on the number of degrees of freedom."
   ]
  },
  {
   "cell_type": "code",
   "execution_count": null,
   "metadata": {},
   "outputs": [],
   "source": []
  }
 ],
 "metadata": {
  "kernelspec": {
   "display_name": "Python 3",
   "language": "python",
   "name": "python3"
  },
  "language_info": {
   "codemirror_mode": {
    "name": "ipython",
    "version": 3
   },
   "file_extension": ".py",
   "mimetype": "text/x-python",
   "name": "python",
   "nbconvert_exporter": "python",
   "pygments_lexer": "ipython3",
   "version": "3.7.5"
  }
 },
 "nbformat": 4,
 "nbformat_minor": 4
}
