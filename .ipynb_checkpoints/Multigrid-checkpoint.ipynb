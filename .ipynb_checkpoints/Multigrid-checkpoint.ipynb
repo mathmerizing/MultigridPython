{
 "cells": [
  {
   "cell_type": "markdown",
   "metadata": {
    "slideshow": {
     "slide_type": "slide"
    }
   },
   "source": [
    "# Results of Multigrid for Convection Diffusion"
   ]
  },
  {
   "cell_type": "markdown",
   "metadata": {},
   "source": [
    "## Imports"
   ]
  },
  {
   "cell_type": "code",
   "execution_count": 1,
   "metadata": {
    "slideshow": {
     "slide_type": "slide"
    }
   },
   "outputs": [],
   "source": [
    "from main import inputParameters, runDemo\n",
    "import logging\n",
    "logging.basicConfig(level=logging.INFO , format='[%(asctime)s] - [%(levelname)s] - %(message)s')"
   ]
  },
  {
   "cell_type": "markdown",
   "metadata": {},
   "source": [
    "## Set parameters"
   ]
  },
  {
   "cell_type": "code",
   "execution_count": 2,
   "metadata": {
    "slideshow": {
     "slide_type": "skip"
    }
   },
   "outputs": [
    {
     "name": "stdout",
     "output_type": "stream",
     "text": [
      "==================\n",
      "* DEFAULT VALUES *\n",
      "==================\n",
      "LEVELS              = 5\n",
      "SHOW_GRIDS          = False\n",
      "DEGREE              = 1\n",
      "CYCLE               = W\n",
      "MAX_ITER            = 100\n",
      "SMOOTHING_STEPS     = 2\n",
      "SMOOTHER            = Jacobi\n",
      "OMEGA               = 0.8\n",
      "\n",
      "Would you like to change some values? (Y/N): y\n",
      "Number of MG levels (default: 5) = 10\n",
      "Plot grids (default: False) = \n",
      "Degree of FE (default: 1) = \n",
      "Multigrid cycle (default: W; supported: 'V','W') = \n",
      "Maximum number of MG iterations (default: 100) = \n",
      "Number of smoothing steps (default: 2) = \n",
      "Smoother type (default: Jacobi; supported: 'Jacobi','GaussSeidel') = \n",
      "Relaxation parameter omega (default: 0.8) = \n",
      "\n",
      "=================\n",
      "* CUSTOM VALUES *\n",
      "=================\n",
      "LEVELS              = 10\n",
      "SHOW_GRIDS          = False\n",
      "DEGREE              = 1\n",
      "CYCLE               = W\n",
      "MAX_ITER            = 100\n",
      "SMOOTHING_STEPS     = 2\n",
      "SMOOTHER            = Jacobi\n",
      "OMEGA               = 0.8\n",
      "\n"
     ]
    }
   ],
   "source": [
    "inputParameters()"
   ]
  },
  {
   "cell_type": "markdown",
   "metadata": {},
   "source": [
    "## Demo"
   ]
  },
  {
   "cell_type": "markdown",
   "metadata": {},
   "source": [
    "Now that the user has inserted the parameters of the multigrid algorithm,\n",
    "we start by solving the two-grid method, refine the grid, solve the three-grid method, etc."
   ]
  },
  {
   "cell_type": "code",
   "execution_count": 3,
   "metadata": {},
   "outputs": [
    {
     "name": "stderr",
     "output_type": "stream",
     "text": [
      "[2020-06-21 20:25:17,988] - [INFO] - +-----------------------------------------+\n",
      "[2020-06-21 20:25:17,989] - [INFO] - +    MULTIGRID (LEVELS =  2)              +\n",
      "[2020-06-21 20:25:17,989] - [INFO] - +-----------------------------------------+\n",
      "[2020-06-21 20:25:18,157] - [INFO] - Number of DoFs: 21 (by level: 8,21)\n",
      "[2020-06-21 20:25:18,205] - [INFO] - Defect:         5.43e-13\n",
      "[2020-06-21 20:25:18,206] - [INFO] - GMG iterations: 14\n",
      "[2020-06-21 20:25:18,206] - [INFO] - Multigrid time: 0.047 s\n",
      "[2020-06-21 20:25:18,208] - [INFO] - Total time:     219 ms\n",
      "[2020-06-21 20:25:18,209] - [INFO] - \n",
      "[2020-06-21 20:25:18,210] - [INFO] - +-----------------------------------------+\n",
      "[2020-06-21 20:25:18,210] - [INFO] - +    MULTIGRID (LEVELS =  3)              +\n",
      "[2020-06-21 20:25:18,211] - [INFO] - +-----------------------------------------+\n",
      "[2020-06-21 20:25:18,486] - [INFO] - Number of DoFs: 65 (by level: 8,21,65)\n",
      "[2020-06-21 20:25:18,581] - [INFO] - Defect:         4.54e-13\n",
      "[2020-06-21 20:25:18,582] - [INFO] - GMG iterations: 15\n",
      "[2020-06-21 20:25:18,582] - [INFO] - Multigrid time: 0.094 s\n",
      "[2020-06-21 20:25:18,584] - [INFO] - Total time:     374 ms\n",
      "[2020-06-21 20:25:18,584] - [INFO] - \n",
      "[2020-06-21 20:25:18,585] - [INFO] - +-----------------------------------------+\n",
      "[2020-06-21 20:25:18,585] - [INFO] - +    MULTIGRID (LEVELS =  4)              +\n",
      "[2020-06-21 20:25:18,585] - [INFO] - +-----------------------------------------+\n",
      "[2020-06-21 20:25:18,862] - [INFO] - Number of DoFs: 225 (by level: 8,21,65,225)\n",
      "[2020-06-21 20:25:19,053] - [INFO] - Defect:         8.66e-13\n",
      "[2020-06-21 20:25:19,054] - [INFO] - GMG iterations: 14\n",
      "[2020-06-21 20:25:19,054] - [INFO] - Multigrid time: 0.185 s\n",
      "[2020-06-21 20:25:19,057] - [INFO] - Total time:     472 ms\n",
      "[2020-06-21 20:25:19,058] - [INFO] - \n",
      "[2020-06-21 20:25:19,058] - [INFO] - +-----------------------------------------+\n",
      "[2020-06-21 20:25:19,059] - [INFO] - +    MULTIGRID (LEVELS =  5)              +\n",
      "[2020-06-21 20:25:19,059] - [INFO] - +-----------------------------------------+\n",
      "[2020-06-21 20:25:19,465] - [INFO] - Number of DoFs: 833 (by level: 8,21,65,225,833)\n",
      "[2020-06-21 20:25:19,839] - [INFO] - Defect:         6.6e-13\n",
      "[2020-06-21 20:25:19,840] - [INFO] - GMG iterations: 14\n",
      "[2020-06-21 20:25:19,841] - [INFO] - Multigrid time: 0.357 s\n",
      "[2020-06-21 20:25:19,845] - [INFO] - Total time:     786 ms\n",
      "[2020-06-21 20:25:19,846] - [INFO] - \n",
      "[2020-06-21 20:25:19,846] - [INFO] - +-----------------------------------------+\n",
      "[2020-06-21 20:25:19,847] - [INFO] - +    MULTIGRID (LEVELS =  6)              +\n",
      "[2020-06-21 20:25:19,848] - [INFO] - +-----------------------------------------+\n",
      "[2020-06-21 20:25:20,681] - [INFO] - Number of DoFs: 3201 (by level: 8,21,65,225,833,3201)\n",
      "[2020-06-21 20:25:21,397] - [INFO] - Defect:         6.57e-13\n",
      "[2020-06-21 20:25:21,397] - [INFO] - GMG iterations: 13\n",
      "[2020-06-21 20:25:21,398] - [INFO] - Multigrid time: 0.663 s\n",
      "[2020-06-21 20:25:21,414] - [INFO] - Total time:     1 s 568 ms\n",
      "[2020-06-21 20:25:21,415] - [INFO] - \n",
      "[2020-06-21 20:25:21,415] - [INFO] - +-----------------------------------------+\n",
      "[2020-06-21 20:25:21,416] - [INFO] - +    MULTIGRID (LEVELS =  7)              +\n",
      "[2020-06-21 20:25:21,416] - [INFO] - +-----------------------------------------+\n",
      "[2020-06-21 20:25:23,791] - [INFO] - Number of DoFs: 12545 (by level: 8,21,65,225,833,3201,12545)\n",
      "[2020-06-21 20:25:25,735] - [INFO] - Defect:         4.27e-13\n",
      "[2020-06-21 20:25:25,736] - [INFO] - GMG iterations: 13\n",
      "[2020-06-21 20:25:25,738] - [INFO] - Multigrid time: 1.742 s\n",
      "[2020-06-21 20:25:25,818] - [INFO] - Total time:     4 s 402 ms\n",
      "[2020-06-21 20:25:25,819] - [INFO] - \n",
      "[2020-06-21 20:25:25,819] - [INFO] - +-----------------------------------------+\n",
      "[2020-06-21 20:25:25,819] - [INFO] - +    MULTIGRID (LEVELS =  8)              +\n",
      "[2020-06-21 20:25:25,820] - [INFO] - +-----------------------------------------+\n",
      "[2020-06-21 20:25:35,112] - [INFO] - Number of DoFs: 49665 (by level: 8,21,65,225,833,3201,12545,49665)\n",
      "[2020-06-21 20:25:39,688] - [INFO] - Defect:         9.59e-13\n",
      "[2020-06-21 20:25:39,689] - [INFO] - GMG iterations: 12\n",
      "[2020-06-21 20:25:39,690] - [INFO] - Multigrid time: 3.77 s\n",
      "[2020-06-21 20:25:39,950] - [INFO] - Total time:     14 s 130 ms\n",
      "[2020-06-21 20:25:39,950] - [INFO] - \n",
      "[2020-06-21 20:25:39,951] - [INFO] - +-----------------------------------------+\n",
      "[2020-06-21 20:25:39,951] - [INFO] - +    MULTIGRID (LEVELS =  9)              +\n",
      "[2020-06-21 20:25:39,952] - [INFO] - +-----------------------------------------+\n",
      "[2020-06-21 20:26:17,063] - [INFO] - Number of DoFs: 197633 (by level: 8,21,65,225,833,3201,12545,49665,197633)\n",
      "[2020-06-21 20:26:29,795] - [INFO] - Defect:         4.53e-13\n",
      "[2020-06-21 20:26:29,796] - [INFO] - GMG iterations: 12\n",
      "[2020-06-21 20:26:29,796] - [INFO] - Multigrid time: 9.53 s\n",
      "[2020-06-21 20:26:30,702] - [INFO] - Total time:     50 s 751 ms\n",
      "[2020-06-21 20:26:30,703] - [INFO] - \n",
      "[2020-06-21 20:26:30,703] - [INFO] - +-----------------------------------------+\n",
      "[2020-06-21 20:26:30,704] - [INFO] - +    MULTIGRID (LEVELS = 10)              +\n",
      "[2020-06-21 20:26:30,704] - [INFO] - +-----------------------------------------+\n",
      "[2020-06-21 20:28:55,170] - [INFO] - Number of DoFs: 788481 (by level: 8,21,65,225,833,3201,12545,49665,197633,788481)\n",
      "[2020-06-21 20:29:31,918] - [INFO] - Defect:         8.76e-13\n",
      "[2020-06-21 20:29:31,919] - [INFO] - GMG iterations: 11\n",
      "[2020-06-21 20:29:31,919] - [INFO] - Multigrid time: 24.154 s\n",
      "[2020-06-21 20:29:35,598] - [INFO] - Total time:     3 min 4 s 895 ms\n",
      "[2020-06-21 20:29:35,599] - [INFO] - \n"
     ]
    }
   ],
   "source": [
    "runDemo()"
   ]
  },
  {
   "cell_type": "markdown",
   "metadata": {},
   "source": [
    "## Results\n",
    "\n",
    "| Refinements | DoFs | Iterations |\n",
    "| :---: | ------ | :---: |\n",
    "| 1 |     21 | 14 |\n",
    "| 2 |     65 | 14 |\n",
    "| 3 |    225 | 14 |\n",
    "| 4 |    833 | 14 |\n",
    "| 5 |   3201 | 13 |\n",
    "| 6 |  12545 | 13 |\n",
    "| 7 |  49665 | 12 |\n",
    "| 8 | 197633 | 12 |\n",
    "| 9 |788481 | 11 |"
   ]
  },
  {
   "cell_type": "markdown",
   "metadata": {},
   "source": [
    "What we would expect from the theory is that the number of mulitgrid iterations needed should be constant and thus independent of the number of levels. This property is approximately fulfilled in our simulation. Furthermore, the total computation time should depend linearly on the number of DoFs. This can't be observed here, since for us the assembly of the level matrices is a big bottleneck and consumes the most time. When taking a closer look at the time stamps of the logs and comparing that to where the program currently is in our code, one might notice that after the assembly the time for the actual process of solving the linear equation system approximately doubles when we add a new level. The number of DoFs quadruples with every refinement. Thus the time of the multigrid solver linearly depends on the number of degrees of freedom."
   ]
  },
  {
   "cell_type": "code",
   "execution_count": null,
   "metadata": {},
   "outputs": [],
   "source": []
  }
 ],
 "metadata": {
  "kernelspec": {
   "display_name": "Python 3",
   "language": "python",
   "name": "python3"
  },
  "language_info": {
   "codemirror_mode": {
    "name": "ipython",
    "version": 3
   },
   "file_extension": ".py",
   "mimetype": "text/x-python",
   "name": "python",
   "nbconvert_exporter": "python",
   "pygments_lexer": "ipython3",
   "version": "3.7.5"
  }
 },
 "nbformat": 4,
 "nbformat_minor": 4
}
