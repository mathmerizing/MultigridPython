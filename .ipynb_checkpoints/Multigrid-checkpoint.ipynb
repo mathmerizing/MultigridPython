{
 "cells": [
  {
   "cell_type": "markdown",
   "metadata": {},
   "source": [
    "# Results of Multigrid for Convection Diffusion"
   ]
  },
  {
   "cell_type": "code",
   "execution_count": 1,
   "metadata": {},
   "outputs": [],
   "source": [
    "from main import inputParameters, runDemo, run\n",
    "import logging\n",
    "logging.basicConfig(level=logging.INFO , format='[%(asctime)s] - [%(levelname)s] - %(message)s')"
   ]
  },
  {
   "cell_type": "code",
   "execution_count": 2,
   "metadata": {},
   "outputs": [
    {
     "name": "stdout",
     "output_type": "stream",
     "text": [
      "==================\n",
      "* DEFAULT VALUES *\n",
      "==================\n",
      "LEVELS              = 5\n",
      "SHOW_GRIDS          = False\n",
      "DEGREE              = 1\n",
      "CYCLE               = W\n",
      "MAX_ITER            = 100\n",
      "SMOOTHING_STEPS     = 2\n",
      "SMOOTHER            = Jacobi\n",
      "OMEGA               = 0.8\n",
      "\n",
      "Would you like to change some values? (Y/N): y\n",
      "Number of MG levels (default: 5) = 10\n",
      "Plot grids (default: False) = \n",
      "Degree of FE (default: 1) = \n",
      "Multigrid cycle (default: W; supported: 'V','W') = \n",
      "Maximum number of MG iterations (default: 100) = \n",
      "Number of smoothing steps (default: 2) = \n",
      "Smoother type (default: Jacobi; supported: 'Jacobi','GaussSeidel') = \n",
      "Relaxation parameter omega (default: 0.8) = \n",
      "\n",
      "=================\n",
      "* CUSTOM VALUES *\n",
      "=================\n",
      "LEVELS              = 10\n",
      "SHOW_GRIDS          = False\n",
      "DEGREE              = 1\n",
      "CYCLE               = W\n",
      "MAX_ITER            = 100\n",
      "SMOOTHING_STEPS     = 2\n",
      "SMOOTHER            = Jacobi\n",
      "OMEGA               = 0.8\n",
      "\n"
     ]
    }
   ],
   "source": [
    "inputParameters()"
   ]
  },
  {
   "cell_type": "code",
   "execution_count": 3,
   "metadata": {},
   "outputs": [
    {
     "name": "stderr",
     "output_type": "stream",
     "text": [
      "[2020-06-15 22:23:25,425] - [INFO] - +-----------------------------------------+\n",
      "[2020-06-15 22:23:25,426] - [INFO] - +    MULITGRID (LEVELS =  2)              +\n",
      "[2020-06-15 22:23:25,427] - [INFO] - +-----------------------------------------+\n",
      "[2020-06-15 22:23:25,437] - [INFO] - Number of DoFs: 21 (by level: 8,21)\n",
      "[2020-06-15 22:23:25,477] - [INFO] - Defect:         5.43e-13\n",
      "[2020-06-15 22:23:25,478] - [INFO] - GMG iterations: 14\n",
      "[2020-06-15 22:23:25,480] - [INFO] - Total time:     56 ms\n",
      "[2020-06-15 22:23:25,481] - [INFO] - \n",
      "[2020-06-15 22:23:25,482] - [INFO] - +-----------------------------------------+\n",
      "[2020-06-15 22:23:25,482] - [INFO] - +    MULITGRID (LEVELS =  3)              +\n",
      "[2020-06-15 22:23:25,483] - [INFO] - +-----------------------------------------+\n",
      "[2020-06-15 22:23:25,517] - [INFO] - Number of DoFs: 65 (by level: 8,21,65)\n",
      "[2020-06-15 22:23:25,601] - [INFO] - Defect:         4.54e-13\n",
      "[2020-06-15 22:23:25,602] - [INFO] - GMG iterations: 15\n",
      "[2020-06-15 22:23:25,604] - [INFO] - Total time:     122 ms\n",
      "[2020-06-15 22:23:25,604] - [INFO] - \n",
      "[2020-06-15 22:23:25,605] - [INFO] - +-----------------------------------------+\n",
      "[2020-06-15 22:23:25,606] - [INFO] - +    MULITGRID (LEVELS =  4)              +\n",
      "[2020-06-15 22:23:25,606] - [INFO] - +-----------------------------------------+\n",
      "[2020-06-15 22:23:25,724] - [INFO] - Number of DoFs: 225 (by level: 8,21,65,225)\n",
      "[2020-06-15 22:23:25,894] - [INFO] - Defect:         8.66e-13\n",
      "[2020-06-15 22:23:25,894] - [INFO] - GMG iterations: 14\n",
      "[2020-06-15 22:23:25,897] - [INFO] - Total time:     291 ms\n",
      "[2020-06-15 22:23:25,898] - [INFO] - \n",
      "[2020-06-15 22:23:25,899] - [INFO] - +-----------------------------------------+\n",
      "[2020-06-15 22:23:25,899] - [INFO] - +    MULITGRID (LEVELS =  5)              +\n",
      "[2020-06-15 22:23:25,900] - [INFO] - +-----------------------------------------+\n",
      "[2020-06-15 22:23:26,340] - [INFO] - Number of DoFs: 833 (by level: 8,21,65,225,833)\n",
      "[2020-06-15 22:23:26,721] - [INFO] - Defect:         6.6e-13\n",
      "[2020-06-15 22:23:26,722] - [INFO] - GMG iterations: 14\n",
      "[2020-06-15 22:23:26,726] - [INFO] - Total time:     828 ms\n",
      "[2020-06-15 22:23:26,728] - [INFO] - \n",
      "[2020-06-15 22:23:26,728] - [INFO] - +-----------------------------------------+\n",
      "[2020-06-15 22:23:26,729] - [INFO] - +    MULITGRID (LEVELS =  6)              +\n",
      "[2020-06-15 22:23:26,729] - [INFO] - +-----------------------------------------+\n",
      "[2020-06-15 22:23:28,665] - [INFO] - Number of DoFs: 3201 (by level: 8,21,65,225,833,3201)\n",
      "[2020-06-15 22:23:29,470] - [INFO] - Defect:         6.57e-13\n",
      "[2020-06-15 22:23:29,471] - [INFO] - GMG iterations: 13\n",
      "[2020-06-15 22:23:29,485] - [INFO] - Total time:     2 s 757 ms\n",
      "[2020-06-15 22:23:29,486] - [INFO] - \n",
      "[2020-06-15 22:23:29,487] - [INFO] - +-----------------------------------------+\n",
      "[2020-06-15 22:23:29,487] - [INFO] - +    MULITGRID (LEVELS =  7)              +\n",
      "[2020-06-15 22:23:29,489] - [INFO] - +-----------------------------------------+\n",
      "[2020-06-15 22:23:36,788] - [INFO] - Number of DoFs: 12545 (by level: 8,21,65,225,833,3201,12545)\n",
      "[2020-06-15 22:23:38,709] - [INFO] - Defect:         4.27e-13\n",
      "[2020-06-15 22:23:38,710] - [INFO] - GMG iterations: 13\n",
      "[2020-06-15 22:23:38,788] - [INFO] - Total time:     9 s 302 ms\n",
      "[2020-06-15 22:23:38,789] - [INFO] - \n",
      "[2020-06-15 22:23:38,789] - [INFO] - +-----------------------------------------+\n",
      "[2020-06-15 22:23:38,789] - [INFO] - +    MULITGRID (LEVELS =  8)              +\n",
      "[2020-06-15 22:23:38,789] - [INFO] - +-----------------------------------------+\n",
      "[2020-06-15 22:24:08,658] - [INFO] - Number of DoFs: 49665 (by level: 8,21,65,225,833,3201,12545,49665)\n",
      "[2020-06-15 22:24:13,153] - [INFO] - Defect:         9.59e-13\n",
      "[2020-06-15 22:24:13,154] - [INFO] - GMG iterations: 12\n",
      "[2020-06-15 22:24:13,392] - [INFO] - Total time:     34 s 603 ms\n",
      "[2020-06-15 22:24:13,393] - [INFO] - \n",
      "[2020-06-15 22:24:13,393] - [INFO] - +-----------------------------------------+\n",
      "[2020-06-15 22:24:13,394] - [INFO] - +    MULITGRID (LEVELS =  9)              +\n",
      "[2020-06-15 22:24:13,394] - [INFO] - +-----------------------------------------+\n",
      "[2020-06-15 22:26:12,285] - [INFO] - Number of DoFs: 197633 (by level: 8,21,65,225,833,3201,12545,49665,197633)\n",
      "[2020-06-15 22:26:25,246] - [INFO] - Defect:         4.53e-13\n",
      "[2020-06-15 22:26:25,247] - [INFO] - GMG iterations: 12\n",
      "[2020-06-15 22:26:26,180] - [INFO] - Total time:     2 min 12 s 786 ms\n",
      "[2020-06-15 22:26:26,180] - [INFO] - \n",
      "[2020-06-15 22:26:26,181] - [INFO] - +-----------------------------------------+\n",
      "[2020-06-15 22:26:26,181] - [INFO] - +    MULITGRID (LEVELS = 10)              +\n",
      "[2020-06-15 22:26:26,182] - [INFO] - +-----------------------------------------+\n",
      "[2020-06-15 22:34:33,652] - [INFO] - Number of DoFs: 788481 (by level: 8,21,65,225,833,3201,12545,49665,197633,788481)\n",
      "[2020-06-15 22:35:12,232] - [INFO] - Defect:         8.76e-13\n",
      "[2020-06-15 22:35:12,233] - [INFO] - GMG iterations: 11\n",
      "[2020-06-15 22:35:15,815] - [INFO] - Total time:     8 min 49 s 634 ms\n",
      "[2020-06-15 22:35:15,815] - [INFO] - \n"
     ]
    }
   ],
   "source": [
    "runDemo()"
   ]
  },
  {
   "cell_type": "code",
   "execution_count": 4,
   "metadata": {},
   "outputs": [
    {
     "name": "stderr",
     "output_type": "stream",
     "text": [
      "[2020-06-15 22:35:17,398] - [INFO] - Starting run method...\n",
      "[2020-06-15 22:45:52,703] - [INFO] - Number of DoFs: 788481 (by level: 8,21,65,225,833,3201,12545,49665,197633,788481)\n",
      "[2020-06-15 22:46:34,109] - [INFO] - Defect:         8.76e-13\n",
      "[2020-06-15 22:46:34,110] - [INFO] - GMG iterations: 11\n"
     ]
    }
   ],
   "source": [
    "run()"
   ]
  },
  {
   "cell_type": "code",
   "execution_count": null,
   "metadata": {},
   "outputs": [],
   "source": []
  }
 ],
 "metadata": {
  "kernelspec": {
   "display_name": "Python 3",
   "language": "python",
   "name": "python3"
  },
  "language_info": {
   "codemirror_mode": {
    "name": "ipython",
    "version": 3
   },
   "file_extension": ".py",
   "mimetype": "text/x-python",
   "name": "python",
   "nbconvert_exporter": "python",
   "pygments_lexer": "ipython3",
   "version": "3.7.5"
  }
 },
 "nbformat": 4,
 "nbformat_minor": 4
}
