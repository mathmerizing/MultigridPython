{
 "cells": [
  {
   "cell_type": "markdown",
   "metadata": {
    "slideshow": {
     "slide_type": "slide"
    }
   },
   "source": [
    "# Results of Multigrid for Convection Diffusion"
   ]
  },
  {
   "cell_type": "markdown",
   "metadata": {},
   "source": [
    "## Imports"
   ]
  },
  {
   "cell_type": "code",
   "execution_count": 1,
   "metadata": {
    "slideshow": {
     "slide_type": "slide"
    }
   },
   "outputs": [],
   "source": [
    "from main import inputParameters, runDemo\n",
    "import logging\n",
    "logging.basicConfig(level=logging.INFO , format='[%(asctime)s] - [%(levelname)s] - %(message)s')"
   ]
  },
  {
   "cell_type": "markdown",
   "metadata": {},
   "source": [
    "## Set parameters"
   ]
  },
  {
   "cell_type": "code",
   "execution_count": 2,
   "metadata": {
    "slideshow": {
     "slide_type": "skip"
    }
   },
   "outputs": [
    {
     "name": "stdout",
     "output_type": "stream",
     "text": [
      "==================\n",
      "* DEFAULT VALUES *\n",
      "==================\n",
      "LEVELS              = 5\n",
      "SHOW_GRIDS          = False\n",
      "DEGREE              = 1\n",
      "CYCLE               = W\n",
      "MAX_ITER            = 100\n",
      "SMOOTHING_STEPS     = 2\n",
      "SMOOTHER            = Jacobi\n",
      "OMEGA               = 0.8\n",
      "\n",
      "Would you like to change some values? (Y/N): Y\n",
      "Number of MG levels (default: 5) = 10\n",
      "Plot grids (default: False) = \n",
      "Degree of FE (default: 1) = \n",
      "Multigrid cycle (default: W; supported: 'V','W') = \n",
      "Maximum number of MG iterations (default: 100) = \n",
      "Number of smoothing steps (default: 2) = \n",
      "Smoother type (default: Jacobi; supported: 'Jacobi','GaussSeidel') = \n",
      "Relaxation parameter omega (default: 0.8) = \n",
      "\n",
      "=================\n",
      "* CUSTOM VALUES *\n",
      "=================\n",
      "LEVELS              = 10\n",
      "SHOW_GRIDS          = False\n",
      "DEGREE              = 1\n",
      "CYCLE               = W\n",
      "MAX_ITER            = 100\n",
      "SMOOTHING_STEPS     = 2\n",
      "SMOOTHER            = Jacobi\n",
      "OMEGA               = 0.8\n",
      "\n"
     ]
    }
   ],
   "source": [
    "inputParameters()"
   ]
  },
  {
   "cell_type": "markdown",
   "metadata": {},
   "source": [
    "## Demo"
   ]
  },
  {
   "cell_type": "markdown",
   "metadata": {},
   "source": [
    "Now that the user has inserted the parameters of the multigrid algorithm,\n",
    "we start by solving the two-grid method, refine the grid, solve the three-grid method, etc.\n",
    "\n",
    "What we would expect from the theory is that the number of mulitgrid iterations needed should be constant and thus independent of the number of levels. This property is approximately fulfilled in our simulation. Furthermore, the total computation time should depend linearly on the number of DoFs. This can't be observed here, since for us the assembly of the level matrices is a big bottleneck and consumes the most time. When taking a closer look at the time stamps of the logs and comparing that to where the program currently is in our code, one might notice that after the assembly the time for the actual process of solving the linear equation system approximately doubles when we add a new level. The number of DoFs quadruples with every refinement. Thus the time of the multigrid solver linearly depends on the number of degrees of freedom."
   ]
  },
  {
   "cell_type": "code",
   "execution_count": 3,
   "metadata": {},
   "outputs": [
    {
     "name": "stderr",
     "output_type": "stream",
     "text": [
      "[2020-06-17 14:32:55,887] - [INFO] - +-----------------------------------------+\n",
      "[2020-06-17 14:32:55,888] - [INFO] - +    MULTIGRID (LEVELS =  2)              +\n",
      "[2020-06-17 14:32:55,888] - [INFO] - +-----------------------------------------+\n",
      "[2020-06-17 14:32:56,049] - [INFO] - Number of DoFs: 21 (by level: 8,21)\n",
      "[2020-06-17 14:32:56,094] - [INFO] - Defect:         5.43e-13\n",
      "[2020-06-17 14:32:56,094] - [INFO] - GMG iterations: 14\n",
      "[2020-06-17 14:32:56,095] - [INFO] - Total time:     209 ms\n",
      "[2020-06-17 14:32:56,096] - [INFO] - \n",
      "[2020-06-17 14:32:56,096] - [INFO] - +-----------------------------------------+\n",
      "[2020-06-17 14:32:56,097] - [INFO] - +    MULTIGRID (LEVELS =  3)              +\n",
      "[2020-06-17 14:32:56,097] - [INFO] - +-----------------------------------------+\n",
      "[2020-06-17 14:32:56,262] - [INFO] - Number of DoFs: 65 (by level: 8,21,65)\n",
      "[2020-06-17 14:32:56,347] - [INFO] - Defect:         4.54e-13\n",
      "[2020-06-17 14:32:56,347] - [INFO] - GMG iterations: 15\n",
      "[2020-06-17 14:32:56,348] - [INFO] - Total time:     251 ms\n",
      "[2020-06-17 14:32:56,348] - [INFO] - \n",
      "[2020-06-17 14:32:56,349] - [INFO] - +-----------------------------------------+\n",
      "[2020-06-17 14:32:56,349] - [INFO] - +    MULTIGRID (LEVELS =  4)              +\n",
      "[2020-06-17 14:32:56,349] - [INFO] - +-----------------------------------------+\n",
      "[2020-06-17 14:32:56,614] - [INFO] - Number of DoFs: 225 (by level: 8,21,65,225)\n",
      "[2020-06-17 14:32:56,789] - [INFO] - Defect:         8.66e-13\n",
      "[2020-06-17 14:32:56,790] - [INFO] - GMG iterations: 14\n",
      "[2020-06-17 14:32:56,792] - [INFO] - Total time:     443 ms\n",
      "[2020-06-17 14:32:56,792] - [INFO] - \n",
      "[2020-06-17 14:32:56,793] - [INFO] - +-----------------------------------------+\n",
      "[2020-06-17 14:32:56,793] - [INFO] - +    MULTIGRID (LEVELS =  5)              +\n",
      "[2020-06-17 14:32:56,794] - [INFO] - +-----------------------------------------+\n",
      "[2020-06-17 14:32:57,189] - [INFO] - Number of DoFs: 833 (by level: 8,21,65,225,833)\n",
      "[2020-06-17 14:32:57,531] - [INFO] - Defect:         6.6e-13\n",
      "[2020-06-17 14:32:57,532] - [INFO] - GMG iterations: 14\n",
      "[2020-06-17 14:32:57,536] - [INFO] - Total time:     744 ms\n",
      "[2020-06-17 14:32:57,537] - [INFO] - \n",
      "[2020-06-17 14:32:57,537] - [INFO] - +-----------------------------------------+\n",
      "[2020-06-17 14:32:57,538] - [INFO] - +    MULTIGRID (LEVELS =  6)              +\n",
      "[2020-06-17 14:32:57,538] - [INFO] - +-----------------------------------------+\n",
      "[2020-06-17 14:32:58,253] - [INFO] - Number of DoFs: 3201 (by level: 8,21,65,225,833,3201)\n",
      "[2020-06-17 14:32:58,953] - [INFO] - Defect:         6.57e-13\n",
      "[2020-06-17 14:32:58,954] - [INFO] - GMG iterations: 13\n",
      "[2020-06-17 14:32:58,967] - [INFO] - Total time:     1 s 430 ms\n",
      "[2020-06-17 14:32:58,968] - [INFO] - \n",
      "[2020-06-17 14:32:58,969] - [INFO] - +-----------------------------------------+\n",
      "[2020-06-17 14:32:58,969] - [INFO] - +    MULTIGRID (LEVELS =  7)              +\n",
      "[2020-06-17 14:32:58,970] - [INFO] - +-----------------------------------------+\n",
      "[2020-06-17 14:33:01,179] - [INFO] - Number of DoFs: 12545 (by level: 8,21,65,225,833,3201,12545)\n",
      "[2020-06-17 14:33:02,991] - [INFO] - Defect:         4.27e-13\n",
      "[2020-06-17 14:33:02,992] - [INFO] - GMG iterations: 13\n",
      "[2020-06-17 14:33:03,068] - [INFO] - Total time:     4 s 100 ms\n",
      "[2020-06-17 14:33:03,069] - [INFO] - \n",
      "[2020-06-17 14:33:03,069] - [INFO] - +-----------------------------------------+\n",
      "[2020-06-17 14:33:03,070] - [INFO] - +    MULTIGRID (LEVELS =  8)              +\n",
      "[2020-06-17 14:33:03,070] - [INFO] - +-----------------------------------------+\n",
      "[2020-06-17 14:33:11,378] - [INFO] - Number of DoFs: 49665 (by level: 8,21,65,225,833,3201,12545,49665)\n",
      "[2020-06-17 14:33:15,631] - [INFO] - Defect:         9.59e-13\n",
      "[2020-06-17 14:33:15,632] - [INFO] - GMG iterations: 12\n",
      "[2020-06-17 14:33:15,873] - [INFO] - Total time:     12 s 804 ms\n",
      "[2020-06-17 14:33:15,874] - [INFO] - \n",
      "[2020-06-17 14:33:15,874] - [INFO] - +-----------------------------------------+\n",
      "[2020-06-17 14:33:15,875] - [INFO] - +    MULTIGRID (LEVELS =  9)              +\n",
      "[2020-06-17 14:33:15,875] - [INFO] - +-----------------------------------------+\n",
      "[2020-06-17 14:33:49,566] - [INFO] - Number of DoFs: 197633 (by level: 8,21,65,225,833,3201,12545,49665,197633)\n",
      "[2020-06-17 14:34:01,356] - [INFO] - Defect:         4.53e-13\n",
      "[2020-06-17 14:34:01,356] - [INFO] - GMG iterations: 12\n",
      "[2020-06-17 14:34:02,231] - [INFO] - Total time:     46 s 356 ms\n",
      "[2020-06-17 14:34:02,232] - [INFO] - \n",
      "[2020-06-17 14:34:02,232] - [INFO] - +-----------------------------------------+\n",
      "[2020-06-17 14:34:02,232] - [INFO] - +    MULTIGRID (LEVELS = 10)              +\n",
      "[2020-06-17 14:34:02,233] - [INFO] - +-----------------------------------------+\n",
      "[2020-06-17 14:36:10,700] - [INFO] - Number of DoFs: 788481 (by level: 8,21,65,225,833,3201,12545,49665,197633,788481)\n",
      "[2020-06-17 14:36:45,769] - [INFO] - Defect:         8.76e-13\n",
      "[2020-06-17 14:36:45,770] - [INFO] - GMG iterations: 11\n",
      "[2020-06-17 14:36:49,207] - [INFO] - Total time:     2 min 46 s 974 ms\n",
      "[2020-06-17 14:36:49,207] - [INFO] - \n"
     ]
    }
   ],
   "source": [
    "runDemo()"
   ]
  }
 ],
 "metadata": {
  "kernelspec": {
   "display_name": "Python 3",
   "language": "python",
   "name": "python3"
  },
  "language_info": {
   "codemirror_mode": {
    "name": "ipython",
    "version": 3
   },
   "file_extension": ".py",
   "mimetype": "text/x-python",
   "name": "python",
   "nbconvert_exporter": "python",
   "pygments_lexer": "ipython3",
   "version": "3.7.5"
  }
 },
 "nbformat": 4,
 "nbformat_minor": 4
}
